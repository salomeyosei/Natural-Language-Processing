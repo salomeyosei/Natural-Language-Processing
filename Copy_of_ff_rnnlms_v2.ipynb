{
  "nbformat": 4,
  "nbformat_minor": 0,
  "metadata": {
    "accelerator": "GPU",
    "colab": {
      "name": "Copy of ff_rnnlms_v2.ipynb",
      "provenance": [],
      "collapsed_sections": [],
      "include_colab_link": true
    },
    "kernelspec": {
      "name": "python3",
      "display_name": "Python 3"
    },
    "language_info": {
      "codemirror_mode": {
        "name": "ipython",
        "version": 3
      },
      "file_extension": ".py",
      "mimetype": "text/x-python",
      "name": "python",
      "nbconvert_exporter": "python",
      "pygments_lexer": "ipython3",
      "version": "3.7.4"
    },
    "widgets": {
      "application/vnd.jupyter.widget-state+json": {
        "1bd80efcaadc4765bf2955c60b7c2728": {
          "model_module": "@jupyter-widgets/controls",
          "model_name": "HBoxModel",
          "state": {
            "_view_name": "HBoxView",
            "_dom_classes": [],
            "_model_name": "HBoxModel",
            "_view_module": "@jupyter-widgets/controls",
            "_model_module_version": "1.5.0",
            "_view_count": null,
            "_view_module_version": "1.5.0",
            "box_style": "",
            "layout": "IPY_MODEL_0db625e154f04fb3a0c1907eed2dcd9c",
            "_model_module": "@jupyter-widgets/controls",
            "children": [
              "IPY_MODEL_6a902c60dd9248c8aafebdbf3ecc121a",
              "IPY_MODEL_72843512a03e4367821626a8da4a8abd"
            ]
          }
        },
        "0db625e154f04fb3a0c1907eed2dcd9c": {
          "model_module": "@jupyter-widgets/base",
          "model_name": "LayoutModel",
          "state": {
            "_view_name": "LayoutView",
            "grid_template_rows": null,
            "right": null,
            "justify_content": null,
            "_view_module": "@jupyter-widgets/base",
            "overflow": null,
            "_model_module_version": "1.2.0",
            "_view_count": null,
            "flex_flow": null,
            "width": null,
            "min_width": null,
            "border": null,
            "align_items": null,
            "bottom": null,
            "_model_module": "@jupyter-widgets/base",
            "top": null,
            "grid_column": null,
            "overflow_y": null,
            "overflow_x": null,
            "grid_auto_flow": null,
            "grid_area": null,
            "grid_template_columns": null,
            "flex": null,
            "_model_name": "LayoutModel",
            "justify_items": null,
            "grid_row": null,
            "max_height": null,
            "align_content": null,
            "visibility": null,
            "align_self": null,
            "height": null,
            "min_height": null,
            "padding": null,
            "grid_auto_rows": null,
            "grid_gap": null,
            "max_width": null,
            "order": null,
            "_view_module_version": "1.2.0",
            "grid_template_areas": null,
            "object_position": null,
            "object_fit": null,
            "grid_auto_columns": null,
            "margin": null,
            "display": null,
            "left": null
          }
        },
        "6a902c60dd9248c8aafebdbf3ecc121a": {
          "model_module": "@jupyter-widgets/controls",
          "model_name": "IntProgressModel",
          "state": {
            "_view_name": "ProgressView",
            "style": "IPY_MODEL_393b8dc6afa8439ca395eb636ad70fd5",
            "_dom_classes": [],
            "description": "Downloading",
            "_model_name": "IntProgressModel",
            "bar_style": "success",
            "max": 1042301,
            "_view_module": "@jupyter-widgets/controls",
            "_model_module_version": "1.5.0",
            "value": 1042301,
            "_view_count": null,
            "_view_module_version": "1.5.0",
            "orientation": "horizontal",
            "min": 0,
            "description_tooltip": null,
            "_model_module": "@jupyter-widgets/controls",
            "layout": "IPY_MODEL_0a0c9cb2a02f473d9863f0c19ac7eb25"
          }
        },
        "72843512a03e4367821626a8da4a8abd": {
          "model_module": "@jupyter-widgets/controls",
          "model_name": "HTMLModel",
          "state": {
            "_view_name": "HTMLView",
            "style": "IPY_MODEL_c4e818ce8e5f461b8090743adf73b32e",
            "_dom_classes": [],
            "description": "",
            "_model_name": "HTMLModel",
            "placeholder": "​",
            "_view_module": "@jupyter-widgets/controls",
            "_model_module_version": "1.5.0",
            "value": "100% 1.04M/1.04M [00:00&lt;00:00, 2.66MB/s]",
            "_view_count": null,
            "_view_module_version": "1.5.0",
            "description_tooltip": null,
            "_model_module": "@jupyter-widgets/controls",
            "layout": "IPY_MODEL_032c50343f7d4263a41d717f3af79fad"
          }
        },
        "393b8dc6afa8439ca395eb636ad70fd5": {
          "model_module": "@jupyter-widgets/controls",
          "model_name": "ProgressStyleModel",
          "state": {
            "_view_name": "StyleView",
            "_model_name": "ProgressStyleModel",
            "description_width": "initial",
            "_view_module": "@jupyter-widgets/base",
            "_model_module_version": "1.5.0",
            "_view_count": null,
            "_view_module_version": "1.2.0",
            "bar_color": null,
            "_model_module": "@jupyter-widgets/controls"
          }
        },
        "0a0c9cb2a02f473d9863f0c19ac7eb25": {
          "model_module": "@jupyter-widgets/base",
          "model_name": "LayoutModel",
          "state": {
            "_view_name": "LayoutView",
            "grid_template_rows": null,
            "right": null,
            "justify_content": null,
            "_view_module": "@jupyter-widgets/base",
            "overflow": null,
            "_model_module_version": "1.2.0",
            "_view_count": null,
            "flex_flow": null,
            "width": null,
            "min_width": null,
            "border": null,
            "align_items": null,
            "bottom": null,
            "_model_module": "@jupyter-widgets/base",
            "top": null,
            "grid_column": null,
            "overflow_y": null,
            "overflow_x": null,
            "grid_auto_flow": null,
            "grid_area": null,
            "grid_template_columns": null,
            "flex": null,
            "_model_name": "LayoutModel",
            "justify_items": null,
            "grid_row": null,
            "max_height": null,
            "align_content": null,
            "visibility": null,
            "align_self": null,
            "height": null,
            "min_height": null,
            "padding": null,
            "grid_auto_rows": null,
            "grid_gap": null,
            "max_width": null,
            "order": null,
            "_view_module_version": "1.2.0",
            "grid_template_areas": null,
            "object_position": null,
            "object_fit": null,
            "grid_auto_columns": null,
            "margin": null,
            "display": null,
            "left": null
          }
        },
        "c4e818ce8e5f461b8090743adf73b32e": {
          "model_module": "@jupyter-widgets/controls",
          "model_name": "DescriptionStyleModel",
          "state": {
            "_view_name": "StyleView",
            "_model_name": "DescriptionStyleModel",
            "description_width": "",
            "_view_module": "@jupyter-widgets/base",
            "_model_module_version": "1.5.0",
            "_view_count": null,
            "_view_module_version": "1.2.0",
            "_model_module": "@jupyter-widgets/controls"
          }
        },
        "032c50343f7d4263a41d717f3af79fad": {
          "model_module": "@jupyter-widgets/base",
          "model_name": "LayoutModel",
          "state": {
            "_view_name": "LayoutView",
            "grid_template_rows": null,
            "right": null,
            "justify_content": null,
            "_view_module": "@jupyter-widgets/base",
            "overflow": null,
            "_model_module_version": "1.2.0",
            "_view_count": null,
            "flex_flow": null,
            "width": null,
            "min_width": null,
            "border": null,
            "align_items": null,
            "bottom": null,
            "_model_module": "@jupyter-widgets/base",
            "top": null,
            "grid_column": null,
            "overflow_y": null,
            "overflow_x": null,
            "grid_auto_flow": null,
            "grid_area": null,
            "grid_template_columns": null,
            "flex": null,
            "_model_name": "LayoutModel",
            "justify_items": null,
            "grid_row": null,
            "max_height": null,
            "align_content": null,
            "visibility": null,
            "align_self": null,
            "height": null,
            "min_height": null,
            "padding": null,
            "grid_auto_rows": null,
            "grid_gap": null,
            "max_width": null,
            "order": null,
            "_view_module_version": "1.2.0",
            "grid_template_areas": null,
            "object_position": null,
            "object_fit": null,
            "grid_auto_columns": null,
            "margin": null,
            "display": null,
            "left": null
          }
        },
        "27dbdfadb4914a8c9284068fc97af435": {
          "model_module": "@jupyter-widgets/controls",
          "model_name": "HBoxModel",
          "state": {
            "_view_name": "HBoxView",
            "_dom_classes": [],
            "_model_name": "HBoxModel",
            "_view_module": "@jupyter-widgets/controls",
            "_model_module_version": "1.5.0",
            "_view_count": null,
            "_view_module_version": "1.5.0",
            "box_style": "",
            "layout": "IPY_MODEL_df4de2389b004b2bad5f7463366b9360",
            "_model_module": "@jupyter-widgets/controls",
            "children": [
              "IPY_MODEL_ffe4142d6b52458d9e959942edf63c6b",
              "IPY_MODEL_2a37ade4abbd4650a1d5df61e7ee0887"
            ]
          }
        },
        "df4de2389b004b2bad5f7463366b9360": {
          "model_module": "@jupyter-widgets/base",
          "model_name": "LayoutModel",
          "state": {
            "_view_name": "LayoutView",
            "grid_template_rows": null,
            "right": null,
            "justify_content": null,
            "_view_module": "@jupyter-widgets/base",
            "overflow": null,
            "_model_module_version": "1.2.0",
            "_view_count": null,
            "flex_flow": null,
            "width": null,
            "min_width": null,
            "border": null,
            "align_items": null,
            "bottom": null,
            "_model_module": "@jupyter-widgets/base",
            "top": null,
            "grid_column": null,
            "overflow_y": null,
            "overflow_x": null,
            "grid_auto_flow": null,
            "grid_area": null,
            "grid_template_columns": null,
            "flex": null,
            "_model_name": "LayoutModel",
            "justify_items": null,
            "grid_row": null,
            "max_height": null,
            "align_content": null,
            "visibility": null,
            "align_self": null,
            "height": null,
            "min_height": null,
            "padding": null,
            "grid_auto_rows": null,
            "grid_gap": null,
            "max_width": null,
            "order": null,
            "_view_module_version": "1.2.0",
            "grid_template_areas": null,
            "object_position": null,
            "object_fit": null,
            "grid_auto_columns": null,
            "margin": null,
            "display": null,
            "left": null
          }
        },
        "ffe4142d6b52458d9e959942edf63c6b": {
          "model_module": "@jupyter-widgets/controls",
          "model_name": "IntProgressModel",
          "state": {
            "_view_name": "ProgressView",
            "style": "IPY_MODEL_64769d01ff174e548994cb40a6c0b2f2",
            "_dom_classes": [],
            "description": "Downloading",
            "_model_name": "IntProgressModel",
            "bar_style": "success",
            "max": 456318,
            "_view_module": "@jupyter-widgets/controls",
            "_model_module_version": "1.5.0",
            "value": 456318,
            "_view_count": null,
            "_view_module_version": "1.5.0",
            "orientation": "horizontal",
            "min": 0,
            "description_tooltip": null,
            "_model_module": "@jupyter-widgets/controls",
            "layout": "IPY_MODEL_c44dc2a4844e49d7bacd014a1c5afe2d"
          }
        },
        "2a37ade4abbd4650a1d5df61e7ee0887": {
          "model_module": "@jupyter-widgets/controls",
          "model_name": "HTMLModel",
          "state": {
            "_view_name": "HTMLView",
            "style": "IPY_MODEL_aa5fd02f2e7e4c219079e124268a3244",
            "_dom_classes": [],
            "description": "",
            "_model_name": "HTMLModel",
            "placeholder": "​",
            "_view_module": "@jupyter-widgets/controls",
            "_model_module_version": "1.5.0",
            "value": "100% 456k/456k [00:00&lt;00:00, 1.48MB/s]",
            "_view_count": null,
            "_view_module_version": "1.5.0",
            "description_tooltip": null,
            "_model_module": "@jupyter-widgets/controls",
            "layout": "IPY_MODEL_fcc87ef25142449e82b94dfe444c076c"
          }
        },
        "64769d01ff174e548994cb40a6c0b2f2": {
          "model_module": "@jupyter-widgets/controls",
          "model_name": "ProgressStyleModel",
          "state": {
            "_view_name": "StyleView",
            "_model_name": "ProgressStyleModel",
            "description_width": "initial",
            "_view_module": "@jupyter-widgets/base",
            "_model_module_version": "1.5.0",
            "_view_count": null,
            "_view_module_version": "1.2.0",
            "bar_color": null,
            "_model_module": "@jupyter-widgets/controls"
          }
        },
        "c44dc2a4844e49d7bacd014a1c5afe2d": {
          "model_module": "@jupyter-widgets/base",
          "model_name": "LayoutModel",
          "state": {
            "_view_name": "LayoutView",
            "grid_template_rows": null,
            "right": null,
            "justify_content": null,
            "_view_module": "@jupyter-widgets/base",
            "overflow": null,
            "_model_module_version": "1.2.0",
            "_view_count": null,
            "flex_flow": null,
            "width": null,
            "min_width": null,
            "border": null,
            "align_items": null,
            "bottom": null,
            "_model_module": "@jupyter-widgets/base",
            "top": null,
            "grid_column": null,
            "overflow_y": null,
            "overflow_x": null,
            "grid_auto_flow": null,
            "grid_area": null,
            "grid_template_columns": null,
            "flex": null,
            "_model_name": "LayoutModel",
            "justify_items": null,
            "grid_row": null,
            "max_height": null,
            "align_content": null,
            "visibility": null,
            "align_self": null,
            "height": null,
            "min_height": null,
            "padding": null,
            "grid_auto_rows": null,
            "grid_gap": null,
            "max_width": null,
            "order": null,
            "_view_module_version": "1.2.0",
            "grid_template_areas": null,
            "object_position": null,
            "object_fit": null,
            "grid_auto_columns": null,
            "margin": null,
            "display": null,
            "left": null
          }
        },
        "aa5fd02f2e7e4c219079e124268a3244": {
          "model_module": "@jupyter-widgets/controls",
          "model_name": "DescriptionStyleModel",
          "state": {
            "_view_name": "StyleView",
            "_model_name": "DescriptionStyleModel",
            "description_width": "",
            "_view_module": "@jupyter-widgets/base",
            "_model_module_version": "1.5.0",
            "_view_count": null,
            "_view_module_version": "1.2.0",
            "_model_module": "@jupyter-widgets/controls"
          }
        },
        "fcc87ef25142449e82b94dfe444c076c": {
          "model_module": "@jupyter-widgets/base",
          "model_name": "LayoutModel",
          "state": {
            "_view_name": "LayoutView",
            "grid_template_rows": null,
            "right": null,
            "justify_content": null,
            "_view_module": "@jupyter-widgets/base",
            "overflow": null,
            "_model_module_version": "1.2.0",
            "_view_count": null,
            "flex_flow": null,
            "width": null,
            "min_width": null,
            "border": null,
            "align_items": null,
            "bottom": null,
            "_model_module": "@jupyter-widgets/base",
            "top": null,
            "grid_column": null,
            "overflow_y": null,
            "overflow_x": null,
            "grid_auto_flow": null,
            "grid_area": null,
            "grid_template_columns": null,
            "flex": null,
            "_model_name": "LayoutModel",
            "justify_items": null,
            "grid_row": null,
            "max_height": null,
            "align_content": null,
            "visibility": null,
            "align_self": null,
            "height": null,
            "min_height": null,
            "padding": null,
            "grid_auto_rows": null,
            "grid_gap": null,
            "max_width": null,
            "order": null,
            "_view_module_version": "1.2.0",
            "grid_template_areas": null,
            "object_position": null,
            "object_fit": null,
            "grid_auto_columns": null,
            "margin": null,
            "display": null,
            "left": null
          }
        },
        "4515b2f165b443a1acf71e5d2e238d8e": {
          "model_module": "@jupyter-widgets/controls",
          "model_name": "HBoxModel",
          "state": {
            "_view_name": "HBoxView",
            "_dom_classes": [],
            "_model_name": "HBoxModel",
            "_view_module": "@jupyter-widgets/controls",
            "_model_module_version": "1.5.0",
            "_view_count": null,
            "_view_module_version": "1.5.0",
            "box_style": "",
            "layout": "IPY_MODEL_e63f271e37a94cb59277d29b3f4399ec",
            "_model_module": "@jupyter-widgets/controls",
            "children": [
              "IPY_MODEL_57bf6817f6514757acdccef01bc92776",
              "IPY_MODEL_fcaab6ead6b54675a11b6c533c58b020"
            ]
          }
        },
        "e63f271e37a94cb59277d29b3f4399ec": {
          "model_module": "@jupyter-widgets/base",
          "model_name": "LayoutModel",
          "state": {
            "_view_name": "LayoutView",
            "grid_template_rows": null,
            "right": null,
            "justify_content": null,
            "_view_module": "@jupyter-widgets/base",
            "overflow": null,
            "_model_module_version": "1.2.0",
            "_view_count": null,
            "flex_flow": null,
            "width": null,
            "min_width": null,
            "border": null,
            "align_items": null,
            "bottom": null,
            "_model_module": "@jupyter-widgets/base",
            "top": null,
            "grid_column": null,
            "overflow_y": null,
            "overflow_x": null,
            "grid_auto_flow": null,
            "grid_area": null,
            "grid_template_columns": null,
            "flex": null,
            "_model_name": "LayoutModel",
            "justify_items": null,
            "grid_row": null,
            "max_height": null,
            "align_content": null,
            "visibility": null,
            "align_self": null,
            "height": null,
            "min_height": null,
            "padding": null,
            "grid_auto_rows": null,
            "grid_gap": null,
            "max_width": null,
            "order": null,
            "_view_module_version": "1.2.0",
            "grid_template_areas": null,
            "object_position": null,
            "object_fit": null,
            "grid_auto_columns": null,
            "margin": null,
            "display": null,
            "left": null
          }
        },
        "57bf6817f6514757acdccef01bc92776": {
          "model_module": "@jupyter-widgets/controls",
          "model_name": "IntProgressModel",
          "state": {
            "_view_name": "ProgressView",
            "style": "IPY_MODEL_05873e43b8f549119bc6b77c4d25d2f2",
            "_dom_classes": [],
            "description": "Downloading",
            "_model_name": "IntProgressModel",
            "bar_style": "success",
            "max": 224,
            "_view_module": "@jupyter-widgets/controls",
            "_model_module_version": "1.5.0",
            "value": 224,
            "_view_count": null,
            "_view_module_version": "1.5.0",
            "orientation": "horizontal",
            "min": 0,
            "description_tooltip": null,
            "_model_module": "@jupyter-widgets/controls",
            "layout": "IPY_MODEL_d1c51cfa613f45b78ef03fd73bba86ed"
          }
        },
        "fcaab6ead6b54675a11b6c533c58b020": {
          "model_module": "@jupyter-widgets/controls",
          "model_name": "HTMLModel",
          "state": {
            "_view_name": "HTMLView",
            "style": "IPY_MODEL_68b5fadf77c64f7cad2d0709af0c1735",
            "_dom_classes": [],
            "description": "",
            "_model_name": "HTMLModel",
            "placeholder": "​",
            "_view_module": "@jupyter-widgets/controls",
            "_model_module_version": "1.5.0",
            "value": "100% 224/224 [00:00&lt;00:00, 7.43kB/s]",
            "_view_count": null,
            "_view_module_version": "1.5.0",
            "description_tooltip": null,
            "_model_module": "@jupyter-widgets/controls",
            "layout": "IPY_MODEL_a4809664c26f421fac1ab36f8d3a8e4b"
          }
        },
        "05873e43b8f549119bc6b77c4d25d2f2": {
          "model_module": "@jupyter-widgets/controls",
          "model_name": "ProgressStyleModel",
          "state": {
            "_view_name": "StyleView",
            "_model_name": "ProgressStyleModel",
            "description_width": "initial",
            "_view_module": "@jupyter-widgets/base",
            "_model_module_version": "1.5.0",
            "_view_count": null,
            "_view_module_version": "1.2.0",
            "bar_color": null,
            "_model_module": "@jupyter-widgets/controls"
          }
        },
        "d1c51cfa613f45b78ef03fd73bba86ed": {
          "model_module": "@jupyter-widgets/base",
          "model_name": "LayoutModel",
          "state": {
            "_view_name": "LayoutView",
            "grid_template_rows": null,
            "right": null,
            "justify_content": null,
            "_view_module": "@jupyter-widgets/base",
            "overflow": null,
            "_model_module_version": "1.2.0",
            "_view_count": null,
            "flex_flow": null,
            "width": null,
            "min_width": null,
            "border": null,
            "align_items": null,
            "bottom": null,
            "_model_module": "@jupyter-widgets/base",
            "top": null,
            "grid_column": null,
            "overflow_y": null,
            "overflow_x": null,
            "grid_auto_flow": null,
            "grid_area": null,
            "grid_template_columns": null,
            "flex": null,
            "_model_name": "LayoutModel",
            "justify_items": null,
            "grid_row": null,
            "max_height": null,
            "align_content": null,
            "visibility": null,
            "align_self": null,
            "height": null,
            "min_height": null,
            "padding": null,
            "grid_auto_rows": null,
            "grid_gap": null,
            "max_width": null,
            "order": null,
            "_view_module_version": "1.2.0",
            "grid_template_areas": null,
            "object_position": null,
            "object_fit": null,
            "grid_auto_columns": null,
            "margin": null,
            "display": null,
            "left": null
          }
        },
        "68b5fadf77c64f7cad2d0709af0c1735": {
          "model_module": "@jupyter-widgets/controls",
          "model_name": "DescriptionStyleModel",
          "state": {
            "_view_name": "StyleView",
            "_model_name": "DescriptionStyleModel",
            "description_width": "",
            "_view_module": "@jupyter-widgets/base",
            "_model_module_version": "1.5.0",
            "_view_count": null,
            "_view_module_version": "1.2.0",
            "_model_module": "@jupyter-widgets/controls"
          }
        },
        "a4809664c26f421fac1ab36f8d3a8e4b": {
          "model_module": "@jupyter-widgets/base",
          "model_name": "LayoutModel",
          "state": {
            "_view_name": "LayoutView",
            "grid_template_rows": null,
            "right": null,
            "justify_content": null,
            "_view_module": "@jupyter-widgets/base",
            "overflow": null,
            "_model_module_version": "1.2.0",
            "_view_count": null,
            "flex_flow": null,
            "width": null,
            "min_width": null,
            "border": null,
            "align_items": null,
            "bottom": null,
            "_model_module": "@jupyter-widgets/base",
            "top": null,
            "grid_column": null,
            "overflow_y": null,
            "overflow_x": null,
            "grid_auto_flow": null,
            "grid_area": null,
            "grid_template_columns": null,
            "flex": null,
            "_model_name": "LayoutModel",
            "justify_items": null,
            "grid_row": null,
            "max_height": null,
            "align_content": null,
            "visibility": null,
            "align_self": null,
            "height": null,
            "min_height": null,
            "padding": null,
            "grid_auto_rows": null,
            "grid_gap": null,
            "max_width": null,
            "order": null,
            "_view_module_version": "1.2.0",
            "grid_template_areas": null,
            "object_position": null,
            "object_fit": null,
            "grid_auto_columns": null,
            "margin": null,
            "display": null,
            "left": null
          }
        },
        "7294d700d9ff415cbd90e0424fa14158": {
          "model_module": "@jupyter-widgets/controls",
          "model_name": "HBoxModel",
          "state": {
            "_view_name": "HBoxView",
            "_dom_classes": [],
            "_model_name": "HBoxModel",
            "_view_module": "@jupyter-widgets/controls",
            "_model_module_version": "1.5.0",
            "_view_count": null,
            "_view_module_version": "1.5.0",
            "box_style": "",
            "layout": "IPY_MODEL_fc4ba161178d4af1b6b9cbd9ec0f69fc",
            "_model_module": "@jupyter-widgets/controls",
            "children": [
              "IPY_MODEL_53b59e2a621647689d49ba982b7e74a8",
              "IPY_MODEL_99347edb7c8447f984f7a8863455a1b4"
            ]
          }
        },
        "fc4ba161178d4af1b6b9cbd9ec0f69fc": {
          "model_module": "@jupyter-widgets/base",
          "model_name": "LayoutModel",
          "state": {
            "_view_name": "LayoutView",
            "grid_template_rows": null,
            "right": null,
            "justify_content": null,
            "_view_module": "@jupyter-widgets/base",
            "overflow": null,
            "_model_module_version": "1.2.0",
            "_view_count": null,
            "flex_flow": null,
            "width": null,
            "min_width": null,
            "border": null,
            "align_items": null,
            "bottom": null,
            "_model_module": "@jupyter-widgets/base",
            "top": null,
            "grid_column": null,
            "overflow_y": null,
            "overflow_x": null,
            "grid_auto_flow": null,
            "grid_area": null,
            "grid_template_columns": null,
            "flex": null,
            "_model_name": "LayoutModel",
            "justify_items": null,
            "grid_row": null,
            "max_height": null,
            "align_content": null,
            "visibility": null,
            "align_self": null,
            "height": null,
            "min_height": null,
            "padding": null,
            "grid_auto_rows": null,
            "grid_gap": null,
            "max_width": null,
            "order": null,
            "_view_module_version": "1.2.0",
            "grid_template_areas": null,
            "object_position": null,
            "object_fit": null,
            "grid_auto_columns": null,
            "margin": null,
            "display": null,
            "left": null
          }
        },
        "53b59e2a621647689d49ba982b7e74a8": {
          "model_module": "@jupyter-widgets/controls",
          "model_name": "IntProgressModel",
          "state": {
            "_view_name": "ProgressView",
            "style": "IPY_MODEL_4848cd6d109b49f88ae9aec2084a4c7a",
            "_dom_classes": [],
            "description": "Downloading",
            "_model_name": "IntProgressModel",
            "bar_style": "success",
            "max": 548118077,
            "_view_module": "@jupyter-widgets/controls",
            "_model_module_version": "1.5.0",
            "value": 548118077,
            "_view_count": null,
            "_view_module_version": "1.5.0",
            "orientation": "horizontal",
            "min": 0,
            "description_tooltip": null,
            "_model_module": "@jupyter-widgets/controls",
            "layout": "IPY_MODEL_c73b080d426748a7ae892fba29345c69"
          }
        },
        "99347edb7c8447f984f7a8863455a1b4": {
          "model_module": "@jupyter-widgets/controls",
          "model_name": "HTMLModel",
          "state": {
            "_view_name": "HTMLView",
            "style": "IPY_MODEL_7515a6494da9437698d47e7b9737cf7d",
            "_dom_classes": [],
            "description": "",
            "_model_name": "HTMLModel",
            "placeholder": "​",
            "_view_module": "@jupyter-widgets/controls",
            "_model_module_version": "1.5.0",
            "value": "100% 548M/548M [00:14&lt;00:00, 38.8MB/s]",
            "_view_count": null,
            "_view_module_version": "1.5.0",
            "description_tooltip": null,
            "_model_module": "@jupyter-widgets/controls",
            "layout": "IPY_MODEL_422cd59107b64f0bb835f9dbe0f404fa"
          }
        },
        "4848cd6d109b49f88ae9aec2084a4c7a": {
          "model_module": "@jupyter-widgets/controls",
          "model_name": "ProgressStyleModel",
          "state": {
            "_view_name": "StyleView",
            "_model_name": "ProgressStyleModel",
            "description_width": "initial",
            "_view_module": "@jupyter-widgets/base",
            "_model_module_version": "1.5.0",
            "_view_count": null,
            "_view_module_version": "1.2.0",
            "bar_color": null,
            "_model_module": "@jupyter-widgets/controls"
          }
        },
        "c73b080d426748a7ae892fba29345c69": {
          "model_module": "@jupyter-widgets/base",
          "model_name": "LayoutModel",
          "state": {
            "_view_name": "LayoutView",
            "grid_template_rows": null,
            "right": null,
            "justify_content": null,
            "_view_module": "@jupyter-widgets/base",
            "overflow": null,
            "_model_module_version": "1.2.0",
            "_view_count": null,
            "flex_flow": null,
            "width": null,
            "min_width": null,
            "border": null,
            "align_items": null,
            "bottom": null,
            "_model_module": "@jupyter-widgets/base",
            "top": null,
            "grid_column": null,
            "overflow_y": null,
            "overflow_x": null,
            "grid_auto_flow": null,
            "grid_area": null,
            "grid_template_columns": null,
            "flex": null,
            "_model_name": "LayoutModel",
            "justify_items": null,
            "grid_row": null,
            "max_height": null,
            "align_content": null,
            "visibility": null,
            "align_self": null,
            "height": null,
            "min_height": null,
            "padding": null,
            "grid_auto_rows": null,
            "grid_gap": null,
            "max_width": null,
            "order": null,
            "_view_module_version": "1.2.0",
            "grid_template_areas": null,
            "object_position": null,
            "object_fit": null,
            "grid_auto_columns": null,
            "margin": null,
            "display": null,
            "left": null
          }
        },
        "7515a6494da9437698d47e7b9737cf7d": {
          "model_module": "@jupyter-widgets/controls",
          "model_name": "DescriptionStyleModel",
          "state": {
            "_view_name": "StyleView",
            "_model_name": "DescriptionStyleModel",
            "description_width": "",
            "_view_module": "@jupyter-widgets/base",
            "_model_module_version": "1.5.0",
            "_view_count": null,
            "_view_module_version": "1.2.0",
            "_model_module": "@jupyter-widgets/controls"
          }
        },
        "422cd59107b64f0bb835f9dbe0f404fa": {
          "model_module": "@jupyter-widgets/base",
          "model_name": "LayoutModel",
          "state": {
            "_view_name": "LayoutView",
            "grid_template_rows": null,
            "right": null,
            "justify_content": null,
            "_view_module": "@jupyter-widgets/base",
            "overflow": null,
            "_model_module_version": "1.2.0",
            "_view_count": null,
            "flex_flow": null,
            "width": null,
            "min_width": null,
            "border": null,
            "align_items": null,
            "bottom": null,
            "_model_module": "@jupyter-widgets/base",
            "top": null,
            "grid_column": null,
            "overflow_y": null,
            "overflow_x": null,
            "grid_auto_flow": null,
            "grid_area": null,
            "grid_template_columns": null,
            "flex": null,
            "_model_name": "LayoutModel",
            "justify_items": null,
            "grid_row": null,
            "max_height": null,
            "align_content": null,
            "visibility": null,
            "align_self": null,
            "height": null,
            "min_height": null,
            "padding": null,
            "grid_auto_rows": null,
            "grid_gap": null,
            "max_width": null,
            "order": null,
            "_view_module_version": "1.2.0",
            "grid_template_areas": null,
            "object_position": null,
            "object_fit": null,
            "grid_auto_columns": null,
            "margin": null,
            "display": null,
            "left": null
          }
        }
      }
    }
  },
  "cells": [
    {
      "cell_type": "markdown",
      "metadata": {
        "id": "view-in-github",
        "colab_type": "text"
      },
      "source": [
        "<a href=\"https://colab.research.google.com/github/salomeyosei/Natural-Language-Processing/blob/master/Copy_of_ff_rnnlms_v2.ipynb\" target=\"_parent\"><img src=\"https://colab.research.google.com/assets/colab-badge.svg\" alt=\"Open In Colab\"/></a>"
      ]
    },
    {
      "cell_type": "markdown",
      "metadata": {
        "id": "vSjgxzlD4hAC",
        "colab_type": "text"
      },
      "source": [
        "# Please Make a copy of this notebook before editing the file"
      ]
    },
    {
      "cell_type": "markdown",
      "metadata": {
        "colab_type": "text",
        "id": "IxZ97MQPbj90"
      },
      "source": [
        "# Feed-forward and Recurrent Language Models"
      ]
    },
    {
      "cell_type": "markdown",
      "metadata": {
        "id": "AoI5FUDX4b2G",
        "colab_type": "text"
      },
      "source": [
        "### Preliminaries"
      ]
    },
    {
      "cell_type": "code",
      "metadata": {
        "id": "CbX620q-4b2H",
        "colab_type": "code",
        "outputId": "4b6845f0-0e16-4188-9d63-84bc96982b24",
        "colab": {
          "base_uri": "https://localhost:8080/",
          "height": 35
        }
      },
      "source": [
        "%pylab inline\n",
        "%load_ext autoreload\n",
        "%autoreload 2"
      ],
      "execution_count": 1,
      "outputs": [
        {
          "output_type": "stream",
          "text": [
            "Populating the interactive namespace from numpy and matplotlib\n"
          ],
          "name": "stdout"
        }
      ]
    },
    {
      "cell_type": "code",
      "metadata": {
        "id": "fjAx0sHC4b2M",
        "colab_type": "code",
        "outputId": "d2644015-f3d0-4b9b-b1a2-a5e9a97a8a16",
        "colab": {
          "base_uri": "https://localhost:8080/",
          "height": 127
        }
      },
      "source": [
        "!pip install jsonlines tqdm"
      ],
      "execution_count": 2,
      "outputs": [
        {
          "output_type": "stream",
          "text": [
            "Collecting jsonlines\n",
            "  Downloading https://files.pythonhosted.org/packages/4f/9a/ab96291470e305504aa4b7a2e0ec132e930da89eb3ca7a82fbe03167c131/jsonlines-1.2.0-py2.py3-none-any.whl\n",
            "Requirement already satisfied: tqdm in /usr/local/lib/python3.6/dist-packages (4.28.1)\n",
            "Requirement already satisfied: six in /usr/local/lib/python3.6/dist-packages (from jsonlines) (1.12.0)\n",
            "Installing collected packages: jsonlines\n",
            "Successfully installed jsonlines-1.2.0\n"
          ],
          "name": "stdout"
        }
      ]
    },
    {
      "cell_type": "code",
      "metadata": {
        "colab_type": "code",
        "id": "RSqJllXkKGZR",
        "outputId": "75ae857f-b0ec-468e-b318-020ad9cb1bf4",
        "colab": {
          "base_uri": "https://localhost:8080/",
          "height": 1000
        }
      },
      "source": [
        "# download pretrained models and data\n",
        "### DOWNLOADING THE FILES\n",
        "import os\n",
        "\n",
        "### persona chat dataset\n",
        "if not os.path.exists('personachat_all_sentences_train.jsonl'):\n",
        "    !wget \"https://nyu.box.com/shared/static/q4nvswb0szelivhgyx87vd1056ttqfyi.jsonl\" -O 'personachat_all_sentences_train.jsonl'\n",
        "if not os.path.exists('personachat_all_sentences_valid.jsonl'):\n",
        "    !wget \"https://nyu.box.com/shared/static/8krcizo8sms1m0ppy7uiwfcx4a3l5nsq.jsonl\" -O 'personachat_all_sentences_valid.jsonl'\n",
        "if not os.path.exists('personachat_all_sentences_test.jsonl'):\n",
        "    !wget \"https://nyu.box.com/shared/static/im7we9k2gcf8kslqnfamsimicgosuw9y.jsonl\" -O 'personachat_all_sentences_test.jsonl'\n",
        "\n",
        "## wikitext-2 dataset\n",
        "if not os.path.exists('wikitext2-sentencized.json'):\n",
        "    !wget \"https://nyu.box.com/shared/static/9kb7l7ci30hb6uahhbssjlq0kctr5ii4.json\" -O 'wikitext2-sentencized.json'\n",
        "\n",
        "### pretrained ffnn model\n",
        "if not os.path.exists('personachat_ffnn_lm.pt'):\n",
        "    !wget \"https://nyu.box.com/shared/static/looczvct7ssh30x0gwqmvencple8xok9.pt\" -O 'personachat_ffnn_lm.pt'\n",
        "\n",
        "### pretrained rnn model\n",
        "if not os.path.exists('personachat_rnn_lm.pt'):\n",
        "    !wget \"https://nyu.box.com/shared/static/3jl9erctnvbefnczgmetkdil0xwpcxzb.pt\" -O 'personachat_rnn_lm.pt'"
      ],
      "execution_count": 3,
      "outputs": [
        {
          "output_type": "stream",
          "text": [
            "--2020-03-17 09:19:59--  https://nyu.box.com/shared/static/q4nvswb0szelivhgyx87vd1056ttqfyi.jsonl\n",
            "Resolving nyu.box.com (nyu.box.com)... 107.152.25.197, 107.152.24.197\n",
            "Connecting to nyu.box.com (nyu.box.com)|107.152.25.197|:443... connected.\n",
            "HTTP request sent, awaiting response... 301 Moved Permanently\n",
            "Location: /public/static/q4nvswb0szelivhgyx87vd1056ttqfyi.jsonl [following]\n",
            "--2020-03-17 09:19:59--  https://nyu.box.com/public/static/q4nvswb0szelivhgyx87vd1056ttqfyi.jsonl\n",
            "Reusing existing connection to nyu.box.com:443.\n",
            "HTTP request sent, awaiting response... 301 Moved Permanently\n",
            "Location: https://nyu.app.box.com/public/static/q4nvswb0szelivhgyx87vd1056ttqfyi.jsonl [following]\n",
            "--2020-03-17 09:19:59--  https://nyu.app.box.com/public/static/q4nvswb0szelivhgyx87vd1056ttqfyi.jsonl\n",
            "Resolving nyu.app.box.com (nyu.app.box.com)... 107.152.25.199, 107.152.24.199\n",
            "Connecting to nyu.app.box.com (nyu.app.box.com)|107.152.25.199|:443... connected.\n",
            "HTTP request sent, awaiting response... 302 Found\n",
            "Location: https://public.boxcloud.com/d/1/b1!WFVRsYmlobJdDTe75einAqI1YXjjW-VBw1EoMN766bn_giGa3-FUGqz3hybeayxKWclUstAtA1dxp8EtmA0qoBrTkIz5ThlYsFMj8dfSYCqnJFeE1k3w-hUy7aIfxLD3YCYDQIibfS5iAX0k2gb7MLx0dGnd-LZe62w0bf6O-YvAsD8K0XhyKvjdZeYUj2SpAGyq8qrQmQx6kFhKR6MTJT8OSQFuhPzS1ScG0UMqKjREVgKXyv3N76_Ws2c5dx9nqaGvGHImQoitxXQvOEj-t9jY-z2sYIK6ej-vC1IQWtvLMKzgpXhx-5IubYwIXXbxXaI-iHGk9ERFz71GC6PqmZFrkkJkjGoCgFDwO82aOjrcc_oCAAC5s_R5ySD5mq8d05_2TMllEa8CwMfTOTqaQmOfhkeVV8MDOS57jEfiE9odV0IHwWuPtZCUTQfbbx_h1G-fP5etdKiwuno3yfAs15i7ZCcgoZBuBLLKTVwCxDVf3AOHdPqemOUZoyF7ko24CdkBzEdS38qNqy6JF2GKAiehgna4SHUcNpd9Mt6XRKFqOkOVbtpaYFplUt0eREpu3pHv4uNlfbVjKSCZOi1WiUjFdMbNKwVFajfVBjOjNy5seR23LFiFoo-_mCXCtG0sMxVAzQAf314us9q9ekC19dawygPQpYiU5dTwvKC9d37-z3i6MvXhAM3T5fgC56BWpx4nVwcRo6cYW-GGrcxHs0xFPr6kCCmELQb6ImnDbFVX5g4aO1bh1Hvpc8-U-YjYYbp--jUYrVq-zBkduCfdRndTU8Y1mE_VZSvElDd36k9p-AbZpTARmHOjJlnx-FV0cg7mxc5Ch6X6L20UAqC4VXQBOzAzREGVxCJlfIKenqoyHSjFEw3plwZWzm-2q1X5cXLX1Vteiebqd_LQuJ7vdjNz_VGQGLXpnsGYf_Go_lnnPdwkJwDUTx-h6d4acnWzO-FRG_ZCUfiqIh3rx9q1obr51V8SknpHUeZQzXNOFLpNKyeXCjpCu7wqy_QnWij1yo0S38n5WKnhOQthhIKYEQvkAlvLYY8eh3xIwn9hcuJuH5XxP5nT6o5mhC0cUPkeIx3eR43g8zTk0RQIIOE26RjcUvQejDZZs62cLAE90X_QZxuKiYw6Nj8PZ0x8K7hOTv09Jhx2ltpnQYJSl-m_cpOcdxUrUfw0ePTj7u4E1WpHedABg9nGoPcfbwg_N_9X5hBYGQalVxmgYFHe1lpAX-c1LSfrD0R5Bf9mM74NoEr5ev0yVbUR6tTPyPV7swUADgp3jm9q3qSvtc1w1lLP0xHEk_5AccfPGO_qNPGKXIxiWECE1VZMBq6IR23X4DvirDeS_vtTOEtAqYGZbRJqPTW5MQptBbYWS-bI42FFxwShcWAOq2AY14dP3yvoI148-R1_on8wx-ieyl-zBeLsO4iGCs6s-w../download [following]\n",
            "--2020-03-17 09:20:00--  https://public.boxcloud.com/d/1/b1!WFVRsYmlobJdDTe75einAqI1YXjjW-VBw1EoMN766bn_giGa3-FUGqz3hybeayxKWclUstAtA1dxp8EtmA0qoBrTkIz5ThlYsFMj8dfSYCqnJFeE1k3w-hUy7aIfxLD3YCYDQIibfS5iAX0k2gb7MLx0dGnd-LZe62w0bf6O-YvAsD8K0XhyKvjdZeYUj2SpAGyq8qrQmQx6kFhKR6MTJT8OSQFuhPzS1ScG0UMqKjREVgKXyv3N76_Ws2c5dx9nqaGvGHImQoitxXQvOEj-t9jY-z2sYIK6ej-vC1IQWtvLMKzgpXhx-5IubYwIXXbxXaI-iHGk9ERFz71GC6PqmZFrkkJkjGoCgFDwO82aOjrcc_oCAAC5s_R5ySD5mq8d05_2TMllEa8CwMfTOTqaQmOfhkeVV8MDOS57jEfiE9odV0IHwWuPtZCUTQfbbx_h1G-fP5etdKiwuno3yfAs15i7ZCcgoZBuBLLKTVwCxDVf3AOHdPqemOUZoyF7ko24CdkBzEdS38qNqy6JF2GKAiehgna4SHUcNpd9Mt6XRKFqOkOVbtpaYFplUt0eREpu3pHv4uNlfbVjKSCZOi1WiUjFdMbNKwVFajfVBjOjNy5seR23LFiFoo-_mCXCtG0sMxVAzQAf314us9q9ekC19dawygPQpYiU5dTwvKC9d37-z3i6MvXhAM3T5fgC56BWpx4nVwcRo6cYW-GGrcxHs0xFPr6kCCmELQb6ImnDbFVX5g4aO1bh1Hvpc8-U-YjYYbp--jUYrVq-zBkduCfdRndTU8Y1mE_VZSvElDd36k9p-AbZpTARmHOjJlnx-FV0cg7mxc5Ch6X6L20UAqC4VXQBOzAzREGVxCJlfIKenqoyHSjFEw3plwZWzm-2q1X5cXLX1Vteiebqd_LQuJ7vdjNz_VGQGLXpnsGYf_Go_lnnPdwkJwDUTx-h6d4acnWzO-FRG_ZCUfiqIh3rx9q1obr51V8SknpHUeZQzXNOFLpNKyeXCjpCu7wqy_QnWij1yo0S38n5WKnhOQthhIKYEQvkAlvLYY8eh3xIwn9hcuJuH5XxP5nT6o5mhC0cUPkeIx3eR43g8zTk0RQIIOE26RjcUvQejDZZs62cLAE90X_QZxuKiYw6Nj8PZ0x8K7hOTv09Jhx2ltpnQYJSl-m_cpOcdxUrUfw0ePTj7u4E1WpHedABg9nGoPcfbwg_N_9X5hBYGQalVxmgYFHe1lpAX-c1LSfrD0R5Bf9mM74NoEr5ev0yVbUR6tTPyPV7swUADgp3jm9q3qSvtc1w1lLP0xHEk_5AccfPGO_qNPGKXIxiWECE1VZMBq6IR23X4DvirDeS_vtTOEtAqYGZbRJqPTW5MQptBbYWS-bI42FFxwShcWAOq2AY14dP3yvoI148-R1_on8wx-ieyl-zBeLsO4iGCs6s-w../download\n",
            "Resolving public.boxcloud.com (public.boxcloud.com)... 107.152.26.200\n",
            "Connecting to public.boxcloud.com (public.boxcloud.com)|107.152.26.200|:443... connected.\n",
            "HTTP request sent, awaiting response... 200 OK\n",
            "Length: 13403897 (13M) [application/octet-stream]\n",
            "Saving to: ‘personachat_all_sentences_train.jsonl’\n",
            "\n",
            "personachat_all_sen 100%[===================>]  12.78M  17.7MB/s    in 0.7s    \n",
            "\n",
            "2020-03-17 09:20:01 (17.7 MB/s) - ‘personachat_all_sentences_train.jsonl’ saved [13403897/13403897]\n",
            "\n",
            "--2020-03-17 09:20:04--  https://nyu.box.com/shared/static/8krcizo8sms1m0ppy7uiwfcx4a3l5nsq.jsonl\n",
            "Resolving nyu.box.com (nyu.box.com)... 107.152.29.197\n",
            "Connecting to nyu.box.com (nyu.box.com)|107.152.29.197|:443... connected.\n",
            "HTTP request sent, awaiting response... 301 Moved Permanently\n",
            "Location: /public/static/8krcizo8sms1m0ppy7uiwfcx4a3l5nsq.jsonl [following]\n",
            "--2020-03-17 09:20:04--  https://nyu.box.com/public/static/8krcizo8sms1m0ppy7uiwfcx4a3l5nsq.jsonl\n",
            "Reusing existing connection to nyu.box.com:443.\n",
            "HTTP request sent, awaiting response... 301 Moved Permanently\n",
            "Location: https://nyu.app.box.com/public/static/8krcizo8sms1m0ppy7uiwfcx4a3l5nsq.jsonl [following]\n",
            "--2020-03-17 09:20:04--  https://nyu.app.box.com/public/static/8krcizo8sms1m0ppy7uiwfcx4a3l5nsq.jsonl\n",
            "Resolving nyu.app.box.com (nyu.app.box.com)... 107.152.25.199, 107.152.24.199\n",
            "Connecting to nyu.app.box.com (nyu.app.box.com)|107.152.25.199|:443... connected.\n",
            "HTTP request sent, awaiting response... 302 Found\n",
            "Location: https://public.boxcloud.com/d/1/b1!y0cUVFWYHdEFoRq-hd5Rkfjj9sQF1PP1y9VPVyyTQopEtSaLBkoYTB7UPBZwTYFAEci7-hcMw8bhbobzU1I38SovR7lM48KomUAgP6iY7U5xECkg1zlY3v4teoX4tY5oEBmEabGuvnSp0DOuFGe0PBoEWSvargoPaiXdR-kkisP2ueu-pVC59CjFjmlUvrWNQ6DUG2mCPJtaV2vspDAzJRITjZlX0GC-Amfta55iUnzBChHa9O_t-k6_ceycfXfDn6Lpy1aFiPBU_h2JUlZJQcLV3jjDY7la_3deDZxKUYZsMlrz595xQ7Vy1XPO8PPE6dm45GgIh6LvSgbZyKKp7svQFaCpJAoHWHdekwtLAg3-a_02-wtzoFwK21Cl4csmRAzUx3qVrX7SMMCUgz8JHKCiOCm6JFd35wx_mSItdhvu2n7KACrks9B8Pp6ZbmgcPYSxnfqssWEtZPMpbi-fymoqRiKZkt4IFRBfI3IyQ-RPyD8HcxqDkTrxB-cfvDoiraPJqW68F53-nZWYdHszmQO5P-8nJJqe8fgGcGxpyqZrWmyHVN6XDyv5Z4suesL6e4Esjb8bQOpA4Sp0ZThdiSvcy5w0xPU21khe1IM70fXLhFvIb-8yzr5Cxtd03W3Jf9FKEBUPcz9uRzSWClc20SO-oAH2aXmtskscwDgNXmEVtcwByt0YkLeU943QKCAUI5PRjQjAtBlsQj7PopdpbeYvl3wgF5nA_4OnCCuyYi4sfnc1Mt095eDsLrK7xvqulLt9e46JrsiVtGoqsJ0kGh5PtZTZBRGwqFhZGgLkDr3IA-yJHPPzqToDTkbDPwssqDYJUq_mFplVLxhYsQjV5pjJOPtyZHckNb-Qm7x1ZeGbnTtdBdZ7ploVKuRQZjmM8fAIVdTVTjlaZAeYR52h_oVW64lDpB9KQTY1SNsKLBdjDiwr7sV3hoJoquXum1AiL6r7IzW-3rg8j-EnHD4coIM0nfyrjzzmp0IqFNrMMzhYEq2J7hD3S1IS20H2CLFsmusigmgSkaajfQ2-qdPqlI4ykqY1YhM8YcODFOFY7cTTUStlcrzFx6oKWuVBBjzZObAVBNb5T-EsDPAd46HcJquuLL1UTGi_WFU4WkhffErpm37HtY3OcpgfLA-vW0cbpplGS6r7rNif7CuFfLAtfpVlOUkWpCNzhxb_1-PncTVePG4zJ6bP-dQK44ENf7Me0Awk2pYHkj37BlsEig9q6w7m9l0_Wa1fs802Tols8AD1SciKUppNPOQ-f7AU11mcosILBRooYb8meBPiOJKXQNIewm_NnIBcOtawKc7hzbibdcXUdjhOjpuJQk5pu3AN5WScd6TBtclGfTT8EkvDrax5FTDmcNUB7eRcvie2kQFO-abGqcwDR0fkVWCKvrfnrtjmRB9878vyHSziVeY_uqa4kbEl/download [following]\n",
            "--2020-03-17 09:20:05--  https://public.boxcloud.com/d/1/b1!y0cUVFWYHdEFoRq-hd5Rkfjj9sQF1PP1y9VPVyyTQopEtSaLBkoYTB7UPBZwTYFAEci7-hcMw8bhbobzU1I38SovR7lM48KomUAgP6iY7U5xECkg1zlY3v4teoX4tY5oEBmEabGuvnSp0DOuFGe0PBoEWSvargoPaiXdR-kkisP2ueu-pVC59CjFjmlUvrWNQ6DUG2mCPJtaV2vspDAzJRITjZlX0GC-Amfta55iUnzBChHa9O_t-k6_ceycfXfDn6Lpy1aFiPBU_h2JUlZJQcLV3jjDY7la_3deDZxKUYZsMlrz595xQ7Vy1XPO8PPE6dm45GgIh6LvSgbZyKKp7svQFaCpJAoHWHdekwtLAg3-a_02-wtzoFwK21Cl4csmRAzUx3qVrX7SMMCUgz8JHKCiOCm6JFd35wx_mSItdhvu2n7KACrks9B8Pp6ZbmgcPYSxnfqssWEtZPMpbi-fymoqRiKZkt4IFRBfI3IyQ-RPyD8HcxqDkTrxB-cfvDoiraPJqW68F53-nZWYdHszmQO5P-8nJJqe8fgGcGxpyqZrWmyHVN6XDyv5Z4suesL6e4Esjb8bQOpA4Sp0ZThdiSvcy5w0xPU21khe1IM70fXLhFvIb-8yzr5Cxtd03W3Jf9FKEBUPcz9uRzSWClc20SO-oAH2aXmtskscwDgNXmEVtcwByt0YkLeU943QKCAUI5PRjQjAtBlsQj7PopdpbeYvl3wgF5nA_4OnCCuyYi4sfnc1Mt095eDsLrK7xvqulLt9e46JrsiVtGoqsJ0kGh5PtZTZBRGwqFhZGgLkDr3IA-yJHPPzqToDTkbDPwssqDYJUq_mFplVLxhYsQjV5pjJOPtyZHckNb-Qm7x1ZeGbnTtdBdZ7ploVKuRQZjmM8fAIVdTVTjlaZAeYR52h_oVW64lDpB9KQTY1SNsKLBdjDiwr7sV3hoJoquXum1AiL6r7IzW-3rg8j-EnHD4coIM0nfyrjzzmp0IqFNrMMzhYEq2J7hD3S1IS20H2CLFsmusigmgSkaajfQ2-qdPqlI4ykqY1YhM8YcODFOFY7cTTUStlcrzFx6oKWuVBBjzZObAVBNb5T-EsDPAd46HcJquuLL1UTGi_WFU4WkhffErpm37HtY3OcpgfLA-vW0cbpplGS6r7rNif7CuFfLAtfpVlOUkWpCNzhxb_1-PncTVePG4zJ6bP-dQK44ENf7Me0Awk2pYHkj37BlsEig9q6w7m9l0_Wa1fs802Tols8AD1SciKUppNPOQ-f7AU11mcosILBRooYb8meBPiOJKXQNIewm_NnIBcOtawKc7hzbibdcXUdjhOjpuJQk5pu3AN5WScd6TBtclGfTT8EkvDrax5FTDmcNUB7eRcvie2kQFO-abGqcwDR0fkVWCKvrfnrtjmRB9878vyHSziVeY_uqa4kbEl/download\n",
            "Resolving public.boxcloud.com (public.boxcloud.com)... 107.152.24.200\n",
            "Connecting to public.boxcloud.com (public.boxcloud.com)|107.152.24.200|:443... connected.\n",
            "HTTP request sent, awaiting response... 200 OK\n",
            "Length: 1640194 (1.6M) [application/octet-stream]\n",
            "Saving to: ‘personachat_all_sentences_valid.jsonl’\n",
            "\n",
            "personachat_all_sen 100%[===================>]   1.56M  --.-KB/s    in 0.1s    \n",
            "\n",
            "2020-03-17 09:20:05 (11.7 MB/s) - ‘personachat_all_sentences_valid.jsonl’ saved [1640194/1640194]\n",
            "\n",
            "--2020-03-17 09:20:07--  https://nyu.box.com/shared/static/im7we9k2gcf8kslqnfamsimicgosuw9y.jsonl\n",
            "Resolving nyu.box.com (nyu.box.com)... 107.152.29.197\n",
            "Connecting to nyu.box.com (nyu.box.com)|107.152.29.197|:443... connected.\n",
            "HTTP request sent, awaiting response... 301 Moved Permanently\n",
            "Location: /public/static/im7we9k2gcf8kslqnfamsimicgosuw9y.jsonl [following]\n",
            "--2020-03-17 09:20:07--  https://nyu.box.com/public/static/im7we9k2gcf8kslqnfamsimicgosuw9y.jsonl\n",
            "Reusing existing connection to nyu.box.com:443.\n",
            "HTTP request sent, awaiting response... 301 Moved Permanently\n",
            "Location: https://nyu.app.box.com/public/static/im7we9k2gcf8kslqnfamsimicgosuw9y.jsonl [following]\n",
            "--2020-03-17 09:20:07--  https://nyu.app.box.com/public/static/im7we9k2gcf8kslqnfamsimicgosuw9y.jsonl\n",
            "Resolving nyu.app.box.com (nyu.app.box.com)... 107.152.25.199, 107.152.24.199\n",
            "Connecting to nyu.app.box.com (nyu.app.box.com)|107.152.25.199|:443... connected.\n",
            "HTTP request sent, awaiting response... 302 Found\n",
            "Location: https://public.boxcloud.com/d/1/b1!R2kxl1lVFahQgbLYaloERVvPwj21w8z9EZE2r9wjqLQggQzXhjrBN6P_CSUptSgBrmMSH8ux7WL4IbO2we832RY6k3d3Q7zI6UdnmZvSDMmREmbcOg2r9gb0ciQSJRbYPS6acRQpF6s6RKsLaqZS_hUULwau1MPE1HVl6v78jNin4BWlWcIRxsdaSUVsx60aovMX65Pl09hDW6GwnpvSGVE5_zR_bpVXFzyqfbZCCZFR7JXzvl05gjbb6aThLHf2-1twIFMGAL0WEU-98qEKM2Y2Yr1h8HapYrOm2O_1GAzhfBDeroOO4QTKC2_0IUTZ61y75nMgBNMnxQl1VvitSzz5QJlwnLU12B3xIUQ7eqQbHOQYAQ1WoEi4YMEv_d2hzV8_S5fI6waDwgoj9MNKXwsqgOw5wOE80RLI53KqRB5daHZqJDl5lkdmV5BE2DnxOAVuFSkNjQOWI8NttSxnpIrA4oilsfTVVheCcJi3MLg2uDlYiCLeWmxofk9JNFuxyRrzxIG2kgEA-Un-jFDI62qd8UWSPUk7BIBXfIO12lM72SGA4tYSW06Ia7uObgqLvOdJ59oN_oA8hR0SM6Rz9LMgma8oyWenG68gSNKMO5TwSiRUuYi1A1V_3dyeUefyGDMlhUqR8ySGSZy40WYJMNOrGFM1cegUUIVvr4lt0yDOnkvF-3ndguRgHUwluvZeeTARLbkaQbdJwnEQkCZcXAyUqrOEpvjrllRmRP_tJKjaojMJBBQ459JxmB3lr9ikyIy1ExEPylmEa0MnadCXy3lEgl1jP5VuFNrflY_Dk_u2rHnpbXXObtsIc652XT2gWTyRkRfK-W0yU8O2TZG1_4c0p2vAiscZ0g9DBjGSX0j2SSZD9Go6wbnnLMmwAXdA20cRXNYWH3th1jdpGLZBekUZZ_J20Rf81cDwOhS7LxvZXuRcuLTrVSFwhhhDRRjs5QCWjtOKqmHho8K0jMQTN18st3jhhxZMcRKLx64abrLfhvVlKg7PWb835EUEYMZvELuB9csZaXkVdfLmjxdTq1cfcu_6frBAakRI1qjm1QSETIJ7Mf54qqAFh4SSv4BPCDZG30fNcbdE88KMbGEg6P7C6b-qK0imKKq0VrdrmXhZYUQurkcbPQacXTfx_k4jALrl2wTvQw0Q5vbLY8OGGZiLzE8r3AX4P967E1delRsKjv4AvVL0_sozrQeRFmx0hJuPIPNdTEwMx0UD8-FrTCq8PnkYLlMN8KTxCgMLzGDANJ74g3OOjC53FZmI7JX73_hvH1k8WxBnjUVvgNLoDPOoKBTjkOlC15E3NObQx_4lTp35ssDWB-3UR3-_bdZv7gxj3I-hB5tuqV-zmoaWShKU0SiHoZ2Ha8a1TnVntQ7arE1fhR51IulgzxJuBrd2N3flN2E2xa4J2zADfh2vz0MKGyM./download [following]\n",
            "--2020-03-17 09:20:08--  https://public.boxcloud.com/d/1/b1!R2kxl1lVFahQgbLYaloERVvPwj21w8z9EZE2r9wjqLQggQzXhjrBN6P_CSUptSgBrmMSH8ux7WL4IbO2we832RY6k3d3Q7zI6UdnmZvSDMmREmbcOg2r9gb0ciQSJRbYPS6acRQpF6s6RKsLaqZS_hUULwau1MPE1HVl6v78jNin4BWlWcIRxsdaSUVsx60aovMX65Pl09hDW6GwnpvSGVE5_zR_bpVXFzyqfbZCCZFR7JXzvl05gjbb6aThLHf2-1twIFMGAL0WEU-98qEKM2Y2Yr1h8HapYrOm2O_1GAzhfBDeroOO4QTKC2_0IUTZ61y75nMgBNMnxQl1VvitSzz5QJlwnLU12B3xIUQ7eqQbHOQYAQ1WoEi4YMEv_d2hzV8_S5fI6waDwgoj9MNKXwsqgOw5wOE80RLI53KqRB5daHZqJDl5lkdmV5BE2DnxOAVuFSkNjQOWI8NttSxnpIrA4oilsfTVVheCcJi3MLg2uDlYiCLeWmxofk9JNFuxyRrzxIG2kgEA-Un-jFDI62qd8UWSPUk7BIBXfIO12lM72SGA4tYSW06Ia7uObgqLvOdJ59oN_oA8hR0SM6Rz9LMgma8oyWenG68gSNKMO5TwSiRUuYi1A1V_3dyeUefyGDMlhUqR8ySGSZy40WYJMNOrGFM1cegUUIVvr4lt0yDOnkvF-3ndguRgHUwluvZeeTARLbkaQbdJwnEQkCZcXAyUqrOEpvjrllRmRP_tJKjaojMJBBQ459JxmB3lr9ikyIy1ExEPylmEa0MnadCXy3lEgl1jP5VuFNrflY_Dk_u2rHnpbXXObtsIc652XT2gWTyRkRfK-W0yU8O2TZG1_4c0p2vAiscZ0g9DBjGSX0j2SSZD9Go6wbnnLMmwAXdA20cRXNYWH3th1jdpGLZBekUZZ_J20Rf81cDwOhS7LxvZXuRcuLTrVSFwhhhDRRjs5QCWjtOKqmHho8K0jMQTN18st3jhhxZMcRKLx64abrLfhvVlKg7PWb835EUEYMZvELuB9csZaXkVdfLmjxdTq1cfcu_6frBAakRI1qjm1QSETIJ7Mf54qqAFh4SSv4BPCDZG30fNcbdE88KMbGEg6P7C6b-qK0imKKq0VrdrmXhZYUQurkcbPQacXTfx_k4jALrl2wTvQw0Q5vbLY8OGGZiLzE8r3AX4P967E1delRsKjv4AvVL0_sozrQeRFmx0hJuPIPNdTEwMx0UD8-FrTCq8PnkYLlMN8KTxCgMLzGDANJ74g3OOjC53FZmI7JX73_hvH1k8WxBnjUVvgNLoDPOoKBTjkOlC15E3NObQx_4lTp35ssDWB-3UR3-_bdZv7gxj3I-hB5tuqV-zmoaWShKU0SiHoZ2Ha8a1TnVntQ7arE1fhR51IulgzxJuBrd2N3flN2E2xa4J2zADfh2vz0MKGyM./download\n",
            "Resolving public.boxcloud.com (public.boxcloud.com)... 107.152.24.200\n",
            "Connecting to public.boxcloud.com (public.boxcloud.com)|107.152.24.200|:443... connected.\n",
            "HTTP request sent, awaiting response... 200 OK\n",
            "Length: 1559597 (1.5M) [application/octet-stream]\n",
            "Saving to: ‘personachat_all_sentences_test.jsonl’\n",
            "\n",
            "personachat_all_sen 100%[===================>]   1.49M  8.41MB/s    in 0.2s    \n",
            "\n",
            "2020-03-17 09:20:08 (8.41 MB/s) - ‘personachat_all_sentences_test.jsonl’ saved [1559597/1559597]\n",
            "\n",
            "--2020-03-17 09:20:10--  https://nyu.box.com/shared/static/9kb7l7ci30hb6uahhbssjlq0kctr5ii4.json\n",
            "Resolving nyu.box.com (nyu.box.com)... 107.152.29.197\n",
            "Connecting to nyu.box.com (nyu.box.com)|107.152.29.197|:443... connected.\n",
            "HTTP request sent, awaiting response... 301 Moved Permanently\n",
            "Location: /public/static/9kb7l7ci30hb6uahhbssjlq0kctr5ii4.json [following]\n",
            "--2020-03-17 09:20:11--  https://nyu.box.com/public/static/9kb7l7ci30hb6uahhbssjlq0kctr5ii4.json\n",
            "Reusing existing connection to nyu.box.com:443.\n",
            "HTTP request sent, awaiting response... 301 Moved Permanently\n",
            "Location: https://nyu.app.box.com/public/static/9kb7l7ci30hb6uahhbssjlq0kctr5ii4.json [following]\n",
            "--2020-03-17 09:20:11--  https://nyu.app.box.com/public/static/9kb7l7ci30hb6uahhbssjlq0kctr5ii4.json\n",
            "Resolving nyu.app.box.com (nyu.app.box.com)... 107.152.29.199\n",
            "Connecting to nyu.app.box.com (nyu.app.box.com)|107.152.29.199|:443... connected.\n",
            "HTTP request sent, awaiting response... 302 Found\n",
            "Location: https://public.boxcloud.com/d/1/b1!ZPH53-gzg3oP18UWSMOYTstcznLKJRTZKTPvZtjUXXeTP-raOJMXOXQVkS2GEuX5ZrFBlWtwJT5zRKw2MIPrA4LE1PJfg9r1dGYXuBTI9iIP6vqagK_-hne1deI2v9vQfftEoM7RWXGkMjkiCHz0vNyCPQh8tzaf2iE4juLo7O_QYV8KbdOL9gueioFrmTue1nM0Wm_QuurXwObjoXAOe3OCpH23JaAtHYM5RSqRXePwFizXCJmlWDiowAlEyD6k4hc54s5I4dtuKVCn2n_BS5Hnv2pG46DyXEWMZMuzUlvzomwmiBCkeblwRPnE05F37Xw0jwZTDAThQ_Lt2bzbPcOvLDnV6P9_6zAOVvdcmhqivrBLi_T-RWiNPZgw49MmC0y01OkdhpJ2wfeB6p-pvvfuLJXgih6tanVhLqGEb3CX-7yn-o_B2wat8eklyM3mlqz4edanPJ5WPbliNFOaQJ-ETNNXUmaUUCjnI_hPRseuYf_SNOA3WgK8GwcbsmDAN2-Up0dBHLAsg7vavyy10BZsUCOSTMPs_Gsj-kxdcWxVmMd9-KtLloaaKbn9pPOAbghUzdSRRgsuBfweVwEs9uo2Ymp4-ujOsIdhfr0UJT4aKGOxjEokZ4mihWy25kodJpaVhaEs77vQSqmk5Umj4y8_Cq0unN06F4Soa6Z4udFheatLxoauGP-xc81yueJijyvEcZ7OTkBMon4Sclv8M4ioJ-FBlc5AGgq5fN2BBBLwPAAEmqIWi03iRUwZSjJyHoOD4oE1W7twQFYDLfSocrFMe93KPkxXPM8UY3VnUpigGPBgbXbL-jgmQ55UKS8knMHIFsx-3iWj-g4YmGKl5EyG1TgfSA_LiUKmug908VDcPYVx1EvMqZ-cOMGvQbF3fmVIhFt7w5r1O3AkM1opTu-SlRe7up5ElgNT2ycRmSMQrx7jJtJzRdUijkAODcWlO8PtheH5ZSN6mxyykM9mCNS8p2tZuEy2s-GjPagiSajaUTTy9VYYwrFW7gd8QS_wBWP8e3-JTNUAJAqVdvdCGTK9oH82rUR-HkDIJRAt77xjwZX1SWYEGZOltWO9RFmngQPIN99gVIRIcwc1RJhcY5Hfqj3WUvzRApKZM0MnJ0AGv4whY35fh8uv2cZMRuKGkwKf-aIQHKRVewkfLhSKHzb_hWZtHX-2FBPUf89V2-k-QEp8TOzqetnvCe62RxgP01klzixy2XY_aQe8XVt9dX0WOfv2wxgZ5-XuypbOQrOv3axbb6FCFtlVFJNloejjOVyMjsoRLg1slq6ZfUUpJZlPclyexYVt1ZNsQRKCzqn_cSywp58TAvkNfpekNA9O0uFh1_b5n5MV2MIEzFWLXXdEjzMO-FAwAxBU1ynqiBpljsf0q_gRNW51jC2_xSuI8xF5y5aQMm4lvqA./download [following]\n",
            "--2020-03-17 09:20:11--  https://public.boxcloud.com/d/1/b1!ZPH53-gzg3oP18UWSMOYTstcznLKJRTZKTPvZtjUXXeTP-raOJMXOXQVkS2GEuX5ZrFBlWtwJT5zRKw2MIPrA4LE1PJfg9r1dGYXuBTI9iIP6vqagK_-hne1deI2v9vQfftEoM7RWXGkMjkiCHz0vNyCPQh8tzaf2iE4juLo7O_QYV8KbdOL9gueioFrmTue1nM0Wm_QuurXwObjoXAOe3OCpH23JaAtHYM5RSqRXePwFizXCJmlWDiowAlEyD6k4hc54s5I4dtuKVCn2n_BS5Hnv2pG46DyXEWMZMuzUlvzomwmiBCkeblwRPnE05F37Xw0jwZTDAThQ_Lt2bzbPcOvLDnV6P9_6zAOVvdcmhqivrBLi_T-RWiNPZgw49MmC0y01OkdhpJ2wfeB6p-pvvfuLJXgih6tanVhLqGEb3CX-7yn-o_B2wat8eklyM3mlqz4edanPJ5WPbliNFOaQJ-ETNNXUmaUUCjnI_hPRseuYf_SNOA3WgK8GwcbsmDAN2-Up0dBHLAsg7vavyy10BZsUCOSTMPs_Gsj-kxdcWxVmMd9-KtLloaaKbn9pPOAbghUzdSRRgsuBfweVwEs9uo2Ymp4-ujOsIdhfr0UJT4aKGOxjEokZ4mihWy25kodJpaVhaEs77vQSqmk5Umj4y8_Cq0unN06F4Soa6Z4udFheatLxoauGP-xc81yueJijyvEcZ7OTkBMon4Sclv8M4ioJ-FBlc5AGgq5fN2BBBLwPAAEmqIWi03iRUwZSjJyHoOD4oE1W7twQFYDLfSocrFMe93KPkxXPM8UY3VnUpigGPBgbXbL-jgmQ55UKS8knMHIFsx-3iWj-g4YmGKl5EyG1TgfSA_LiUKmug908VDcPYVx1EvMqZ-cOMGvQbF3fmVIhFt7w5r1O3AkM1opTu-SlRe7up5ElgNT2ycRmSMQrx7jJtJzRdUijkAODcWlO8PtheH5ZSN6mxyykM9mCNS8p2tZuEy2s-GjPagiSajaUTTy9VYYwrFW7gd8QS_wBWP8e3-JTNUAJAqVdvdCGTK9oH82rUR-HkDIJRAt77xjwZX1SWYEGZOltWO9RFmngQPIN99gVIRIcwc1RJhcY5Hfqj3WUvzRApKZM0MnJ0AGv4whY35fh8uv2cZMRuKGkwKf-aIQHKRVewkfLhSKHzb_hWZtHX-2FBPUf89V2-k-QEp8TOzqetnvCe62RxgP01klzixy2XY_aQe8XVt9dX0WOfv2wxgZ5-XuypbOQrOv3axbb6FCFtlVFJNloejjOVyMjsoRLg1slq6ZfUUpJZlPclyexYVt1ZNsQRKCzqn_cSywp58TAvkNfpekNA9O0uFh1_b5n5MV2MIEzFWLXXdEjzMO-FAwAxBU1ynqiBpljsf0q_gRNW51jC2_xSuI8xF5y5aQMm4lvqA./download\n",
            "Resolving public.boxcloud.com (public.boxcloud.com)... 107.152.25.200\n",
            "Connecting to public.boxcloud.com (public.boxcloud.com)|107.152.25.200|:443... connected.\n",
            "HTTP request sent, awaiting response... 200 OK\n",
            "Length: 12714601 (12M) [application/octet-stream]\n",
            "Saving to: ‘wikitext2-sentencized.json’\n",
            "\n",
            "wikitext2-sentenciz 100%[===================>]  12.12M  25.6MB/s    in 0.5s    \n",
            "\n",
            "2020-03-17 09:20:12 (25.6 MB/s) - ‘wikitext2-sentencized.json’ saved [12714601/12714601]\n",
            "\n",
            "--2020-03-17 09:20:14--  https://nyu.box.com/shared/static/looczvct7ssh30x0gwqmvencple8xok9.pt\n",
            "Resolving nyu.box.com (nyu.box.com)... 107.152.25.197, 107.152.24.197\n",
            "Connecting to nyu.box.com (nyu.box.com)|107.152.25.197|:443... connected.\n",
            "HTTP request sent, awaiting response... 301 Moved Permanently\n",
            "Location: /public/static/looczvct7ssh30x0gwqmvencple8xok9.pt [following]\n",
            "--2020-03-17 09:20:14--  https://nyu.box.com/public/static/looczvct7ssh30x0gwqmvencple8xok9.pt\n",
            "Reusing existing connection to nyu.box.com:443.\n",
            "HTTP request sent, awaiting response... 301 Moved Permanently\n",
            "Location: https://nyu.app.box.com/public/static/looczvct7ssh30x0gwqmvencple8xok9.pt [following]\n",
            "--2020-03-17 09:20:14--  https://nyu.app.box.com/public/static/looczvct7ssh30x0gwqmvencple8xok9.pt\n",
            "Resolving nyu.app.box.com (nyu.app.box.com)... 107.152.29.199\n",
            "Connecting to nyu.app.box.com (nyu.app.box.com)|107.152.29.199|:443... connected.\n",
            "HTTP request sent, awaiting response... 302 Found\n",
            "Location: https://public.boxcloud.com/d/1/b1!Gon4RWC0ghoiwxIlMUruqOYx7b7JVucsaLWgZtDSoYShnJfdyMCSMJdBXW3cDI1yMh1I68RZDTDIOqWqURTUIOmb7WrQJ4j4D51exoa59DqyPP7wN4v-NLq9tk4rxI6Ss-IPC5EVmZy2vtAJDY0KwVggOhls7U08tS7m-XOLmjKqrylcKUyp9PR6abcRlJNObwar6MmDrFxU4aIWzvEIHhbxvq1ZpvYfMqQnvx_MVxf_kH2SBhaHow7MKiII8MJLRwOZ5yrWsI3ZoOq-_8gCbwmzpKBX6wEtYXN4MRzMFIkPGeMRK0KC5hvtAC_-dovmqMidmt3VEN6ggroXy9BiY0P9UkrzVXpEasFj53cCRGp85gRPvE-YsKQVgvMRdBXwNX_63d46EuOZHdeSITdHfCw4OPcgBN16dATPLhaurlmenkZCv4C0NzvAFZ9YFVJT-eqMyMeKjzWF3IajRn3TsFvTr7b3wk3QSDLqQAuqG64xvkiOmpQBmEFQflQfNQQWbOjdi3c2-1d2r26iyVlwUFAqzyaTTpeseeSxt8X2Frx6cT9AKbiIHDpddvOUU7AAaDnlTenfSoJesIlRlEOO666ohlXPmjqMlLrmwrn00ECsRSm99I1s-ZvnQx6dFDCN2tDqnB_saWVtL4Xx_l3CbPPCzV-90MGtksR-dUwYSmeoXxUTSYHyQ09yykHH9nm1p5ne-vnyDmd1vdEiG7HRBs-BtRfrEX2z42myYjmAwbXbaaupRRrMH0LDGqoAN9nzz0cgC2gInJCJ6bcaYW_qxpeBwGyKFkxNRhfWaj6Q0XwqAuYec0ILv9Nmdp9PICJzDyXAe6U7O1vhWhHPmenlYA7PxS7NuTV05eAX76hgEeVGzNb5cxvC3gtO2-ecGsnH7DzS5ij3rs4bxKpEP8-3Qw0tTtmGg89Vv_vRlUsT8QDKg3c72o-Cl7ocKMJnWswUAq6dmO59QXFJ2OkuNMUgj5XlDGdnllfQ7XNZBzI-ISsDtsR4AGd9AQpvhwRIDDroCH4kKtQVLRyTObYDfuFUP6Fu-TnKhvFUZpxpwRF4-jwCFTTQrFzTc6bxmKw7BrwAgILGY1RWDsIu13w1mxNPeZfbk9xy7jwdl5RLOYbxh68b2IPHY6zrXOET6eC1mKZf3-tnsf0sUkkxerrH1wpg5S83nG54OQgMFO46un5hLavr701OOZVC4TUSFY-foDJQwDGrX9MDZ9--6c-bJhEPtryHyTtaY1LW0AheGZhx6cdB0YKow2JXJ1_jjFjjhL0JJRIBkHUCdXTy4MrYPzmrFJtTXxBgbPR26UhwUfKHLwW6YXz3uokITy9T14oEcwisM4lqS12cGlAKgNrMxt80_U44YPe37ONGJwY6RmCbKaqUN7JzZr33FPqgENVChCqg4ng./download [following]\n",
            "--2020-03-17 09:20:15--  https://public.boxcloud.com/d/1/b1!Gon4RWC0ghoiwxIlMUruqOYx7b7JVucsaLWgZtDSoYShnJfdyMCSMJdBXW3cDI1yMh1I68RZDTDIOqWqURTUIOmb7WrQJ4j4D51exoa59DqyPP7wN4v-NLq9tk4rxI6Ss-IPC5EVmZy2vtAJDY0KwVggOhls7U08tS7m-XOLmjKqrylcKUyp9PR6abcRlJNObwar6MmDrFxU4aIWzvEIHhbxvq1ZpvYfMqQnvx_MVxf_kH2SBhaHow7MKiII8MJLRwOZ5yrWsI3ZoOq-_8gCbwmzpKBX6wEtYXN4MRzMFIkPGeMRK0KC5hvtAC_-dovmqMidmt3VEN6ggroXy9BiY0P9UkrzVXpEasFj53cCRGp85gRPvE-YsKQVgvMRdBXwNX_63d46EuOZHdeSITdHfCw4OPcgBN16dATPLhaurlmenkZCv4C0NzvAFZ9YFVJT-eqMyMeKjzWF3IajRn3TsFvTr7b3wk3QSDLqQAuqG64xvkiOmpQBmEFQflQfNQQWbOjdi3c2-1d2r26iyVlwUFAqzyaTTpeseeSxt8X2Frx6cT9AKbiIHDpddvOUU7AAaDnlTenfSoJesIlRlEOO666ohlXPmjqMlLrmwrn00ECsRSm99I1s-ZvnQx6dFDCN2tDqnB_saWVtL4Xx_l3CbPPCzV-90MGtksR-dUwYSmeoXxUTSYHyQ09yykHH9nm1p5ne-vnyDmd1vdEiG7HRBs-BtRfrEX2z42myYjmAwbXbaaupRRrMH0LDGqoAN9nzz0cgC2gInJCJ6bcaYW_qxpeBwGyKFkxNRhfWaj6Q0XwqAuYec0ILv9Nmdp9PICJzDyXAe6U7O1vhWhHPmenlYA7PxS7NuTV05eAX76hgEeVGzNb5cxvC3gtO2-ecGsnH7DzS5ij3rs4bxKpEP8-3Qw0tTtmGg89Vv_vRlUsT8QDKg3c72o-Cl7ocKMJnWswUAq6dmO59QXFJ2OkuNMUgj5XlDGdnllfQ7XNZBzI-ISsDtsR4AGd9AQpvhwRIDDroCH4kKtQVLRyTObYDfuFUP6Fu-TnKhvFUZpxpwRF4-jwCFTTQrFzTc6bxmKw7BrwAgILGY1RWDsIu13w1mxNPeZfbk9xy7jwdl5RLOYbxh68b2IPHY6zrXOET6eC1mKZf3-tnsf0sUkkxerrH1wpg5S83nG54OQgMFO46un5hLavr701OOZVC4TUSFY-foDJQwDGrX9MDZ9--6c-bJhEPtryHyTtaY1LW0AheGZhx6cdB0YKow2JXJ1_jjFjjhL0JJRIBkHUCdXTy4MrYPzmrFJtTXxBgbPR26UhwUfKHLwW6YXz3uokITy9T14oEcwisM4lqS12cGlAKgNrMxt80_U44YPe37ONGJwY6RmCbKaqUN7JzZr33FPqgENVChCqg4ng./download\n",
            "Resolving public.boxcloud.com (public.boxcloud.com)... 107.152.24.200\n",
            "Connecting to public.boxcloud.com (public.boxcloud.com)|107.152.24.200|:443... connected.\n",
            "HTTP request sent, awaiting response... 200 OK\n",
            "Length: 63894321 (61M) [application/octet-stream]\n",
            "Saving to: ‘personachat_ffnn_lm.pt’\n",
            "\n",
            "personachat_ffnn_lm 100%[===================>]  60.93M  15.8MB/s    in 3.8s    \n",
            "\n",
            "2020-03-17 09:20:19 (16.0 MB/s) - ‘personachat_ffnn_lm.pt’ saved [63894321/63894321]\n",
            "\n",
            "--2020-03-17 09:20:21--  https://nyu.box.com/shared/static/3jl9erctnvbefnczgmetkdil0xwpcxzb.pt\n",
            "Resolving nyu.box.com (nyu.box.com)... 107.152.29.197\n",
            "Connecting to nyu.box.com (nyu.box.com)|107.152.29.197|:443... connected.\n",
            "HTTP request sent, awaiting response... 301 Moved Permanently\n",
            "Location: /public/static/3jl9erctnvbefnczgmetkdil0xwpcxzb.pt [following]\n",
            "--2020-03-17 09:20:21--  https://nyu.box.com/public/static/3jl9erctnvbefnczgmetkdil0xwpcxzb.pt\n",
            "Reusing existing connection to nyu.box.com:443.\n",
            "HTTP request sent, awaiting response... 301 Moved Permanently\n",
            "Location: https://nyu.app.box.com/public/static/3jl9erctnvbefnczgmetkdil0xwpcxzb.pt [following]\n",
            "--2020-03-17 09:20:21--  https://nyu.app.box.com/public/static/3jl9erctnvbefnczgmetkdil0xwpcxzb.pt\n",
            "Resolving nyu.app.box.com (nyu.app.box.com)... 107.152.25.199, 107.152.24.199\n",
            "Connecting to nyu.app.box.com (nyu.app.box.com)|107.152.25.199|:443... connected.\n",
            "HTTP request sent, awaiting response... 302 Found\n",
            "Location: https://public.boxcloud.com/d/1/b1!rBPLZWSr879_ERha149gxEOoYjXVkb2DXju-Q_W2MsNO0TXoYlnkbPUR3FgKzUix59NqnHadaz15e3UE5uQYfP_5iyD_OPsAh-sUuNOVSEUpJkexwl-ojt1FVR4ibP7rJ2NYgzKhS1uvzKACS369ZveqsU5qv1ZE0PN0xa71Y0E54tAQyPDkdSlmDtC6Ydlkq6HQw7zJ9Rbz-UCIp5l2C-WzpW5-i27PG5zagfZgx4jJAKHclyTr-TqrLGUzXXJduSKhxWhyLUx1S2bXyikXlYHqGHQckS5JcDp_TObcb7DeDJLLMgoNzxbh8LiK66B7RdcB8BnN1v7OAat4AjslIN0scA_Ekmyceug4euB0p04LSESaw9_PeaEbwENj5Xuy80_Yx-3JpLI4ckryUkuQEhgKwuJhqWKRez5YMJAfVsAfafZVlHDZ0tPBcBoG9H_pq6ZOYL1TPI9C2bnGIIoDm-aHcJhszc_tF_4zY3ibk3HWLo76QiVvcG5azExvw1M7EEbcDlESzzUk8QV_WMcJtmOsUftfOOqii3a5Rc5AO6mrX09LuyErKV2UnxWoqhkZ9O5LokQHmk2miUbkFfvUEbZE4_ZS70hmYfdMUMQQ4VRVoVHA-gwqVz0aMhLmC3macrFznYS_baK_ebL7Z7kiR2WNEmOLyw1IV0kldQKBYTxx_3jPZo1EGKnrTR1dsQ1iWCI1x-4k6Z2qUbQXenjgPtLVqylaH8T9dLgFPXuPtpaX7xireKFa14WgNHJ-sgwZdQUxBdjmlhPDoFvPTY3qrPVqmddHFuc1L95n6TV39JC6pZGpD5IyzUYZkKda4Wd5DAWPK2IswRYmkG1eAjxS88uUQVkeL8kZiVAW8xNSSavcXpbhgtf4gPxj-MK8OtLopjPtyWUq0bj8pa_cqwyaVALM0llrwSpDQZgY5L0BzfPtQhaMU5g7tIe4mTliNUGtM679V4PvySXQeWeWVnLVhVv4x6Ku2NgsW4H7m-CL0SkfD2k-fB5GgmVx2z7PawBM2KnFz7evxVaPv_JWOD4ASDYbZpKS8Ut3fIO1YvezCFfXHldb0dWTZFEmY5YF9q1fjTjIWivjq1BraY7K8zPj20wc0cbQi-MSZZR6aH-8yrSLfqEKdZtQ4CeLVSAsqtTGfvvpk_IlqicBIAAAk6lc4w4FeaYEUE_Kqq8Tud47y19K5_SrXLgVXxDsXrlp9HePbBqOXpRrHkN-xd-0GHAPCOyilWcdITllbXh3Q2sjUm2UINyr1Bzfbsii3NR85to0OgbwgWfRwwAKiw3Xok_40h5MpuxwNZeG9GJ_2vnAOHn7R4vUEU2TX0db6oF0QZxgtFUt2VGs8eHbh055lSErBtpvLsgauxdKWQe6jiLn6-H-DP3bCiOMDsNbKBQO0uYYDHs./download [following]\n",
            "--2020-03-17 09:20:22--  https://public.boxcloud.com/d/1/b1!rBPLZWSr879_ERha149gxEOoYjXVkb2DXju-Q_W2MsNO0TXoYlnkbPUR3FgKzUix59NqnHadaz15e3UE5uQYfP_5iyD_OPsAh-sUuNOVSEUpJkexwl-ojt1FVR4ibP7rJ2NYgzKhS1uvzKACS369ZveqsU5qv1ZE0PN0xa71Y0E54tAQyPDkdSlmDtC6Ydlkq6HQw7zJ9Rbz-UCIp5l2C-WzpW5-i27PG5zagfZgx4jJAKHclyTr-TqrLGUzXXJduSKhxWhyLUx1S2bXyikXlYHqGHQckS5JcDp_TObcb7DeDJLLMgoNzxbh8LiK66B7RdcB8BnN1v7OAat4AjslIN0scA_Ekmyceug4euB0p04LSESaw9_PeaEbwENj5Xuy80_Yx-3JpLI4ckryUkuQEhgKwuJhqWKRez5YMJAfVsAfafZVlHDZ0tPBcBoG9H_pq6ZOYL1TPI9C2bnGIIoDm-aHcJhszc_tF_4zY3ibk3HWLo76QiVvcG5azExvw1M7EEbcDlESzzUk8QV_WMcJtmOsUftfOOqii3a5Rc5AO6mrX09LuyErKV2UnxWoqhkZ9O5LokQHmk2miUbkFfvUEbZE4_ZS70hmYfdMUMQQ4VRVoVHA-gwqVz0aMhLmC3macrFznYS_baK_ebL7Z7kiR2WNEmOLyw1IV0kldQKBYTxx_3jPZo1EGKnrTR1dsQ1iWCI1x-4k6Z2qUbQXenjgPtLVqylaH8T9dLgFPXuPtpaX7xireKFa14WgNHJ-sgwZdQUxBdjmlhPDoFvPTY3qrPVqmddHFuc1L95n6TV39JC6pZGpD5IyzUYZkKda4Wd5DAWPK2IswRYmkG1eAjxS88uUQVkeL8kZiVAW8xNSSavcXpbhgtf4gPxj-MK8OtLopjPtyWUq0bj8pa_cqwyaVALM0llrwSpDQZgY5L0BzfPtQhaMU5g7tIe4mTliNUGtM679V4PvySXQeWeWVnLVhVv4x6Ku2NgsW4H7m-CL0SkfD2k-fB5GgmVx2z7PawBM2KnFz7evxVaPv_JWOD4ASDYbZpKS8Ut3fIO1YvezCFfXHldb0dWTZFEmY5YF9q1fjTjIWivjq1BraY7K8zPj20wc0cbQi-MSZZR6aH-8yrSLfqEKdZtQ4CeLVSAsqtTGfvvpk_IlqicBIAAAk6lc4w4FeaYEUE_Kqq8Tud47y19K5_SrXLgVXxDsXrlp9HePbBqOXpRrHkN-xd-0GHAPCOyilWcdITllbXh3Q2sjUm2UINyr1Bzfbsii3NR85to0OgbwgWfRwwAKiw3Xok_40h5MpuxwNZeG9GJ_2vnAOHn7R4vUEU2TX0db6oF0QZxgtFUt2VGs8eHbh055lSErBtpvLsgauxdKWQe6jiLn6-H-DP3bCiOMDsNbKBQO0uYYDHs./download\n",
            "Resolving public.boxcloud.com (public.boxcloud.com)... 107.152.26.200\n",
            "Connecting to public.boxcloud.com (public.boxcloud.com)|107.152.26.200|:443... connected.\n",
            "HTTP request sent, awaiting response... 200 OK\n",
            "Length: 67576905 (64M) [application/octet-stream]\n",
            "Saving to: ‘personachat_rnn_lm.pt’\n",
            "\n",
            "personachat_rnn_lm. 100%[===================>]  64.45M  18.0MB/s    in 3.9s    \n",
            "\n",
            "2020-03-17 09:20:27 (16.6 MB/s) - ‘personachat_rnn_lm.pt’ saved [67576905/67576905]\n",
            "\n"
          ],
          "name": "stdout"
        }
      ]
    },
    {
      "cell_type": "markdown",
      "metadata": {
        "colab_type": "text",
        "id": "G0PkAzAkKHZw"
      },
      "source": [
        "## N-gram modeling as classification\n",
        "\n",
        "In the previous n-gram language models lab, the probability of a word given a history ('prefix') was computed using n-gram **counts**.\n",
        "\n",
        "In this lab, our goal will be the same: modeling the probability of variable length sequences, $$p(x_1,\\ldots,x_T)=\\prod_{t=1}^T p(x_t|x_{<t}),$$\n",
        "\n",
        "by assuming that each word $x_t$ only depends on the preceding $n-1$ words, $$p(x_1,\\ldots,x_T)=\\prod_{t=1}^T p(x_t|x_{t-n+1},\\ldots,x_{t-1}).$$\n",
        "\n",
        "\n",
        "However, _instead of counts_, we will now use a **neural network** to **classify** each history, where each class is the next word.\n",
        "\n",
        "<img src=\"img/fflm.png\" alt=\"Drawing\" style=\"width: 35%;\"/>\n",
        "\n",
        "[Diagram: modified from the [NLP Lecture Note](https://github.com/nyu-dl/NLP_DL_Lecture_Note/blob/master/lecture_note.pdf) by Kyunghyun Cho]"
      ]
    },
    {
      "cell_type": "markdown",
      "metadata": {
        "colab_type": "text",
        "id": "_rHGuy-zbj-R"
      },
      "source": [
        "## Modeling chat utterances\n",
        "\n",
        "We will build a **feed-forward neural n-gram model** to model chat utterances.\n",
        "\n",
        "### 1. Prepare the data\n",
        "\n",
        "To load and preprocess the data, we'll use utility functions from `data.py`."
      ]
    },
    {
      "cell_type": "code",
      "metadata": {
        "id": "TVEmLrby6o74",
        "colab_type": "code",
        "colab": {}
      },
      "source": [
        "import os\n",
        "import jsonlines\n",
        "import torch\n",
        "\n",
        "from tqdm import tqdm\n",
        "from torch.utils.data import Dataset\n",
        "\n",
        "\n",
        "class Dictionary(object):\n",
        "    def __init__(\n",
        "        self, datasets, include_valid=False, special_tokens=('<bos>', '<eos>', '<pad>', '<unk>')\n",
        "    ):\n",
        "        self.tokens = []\n",
        "        self.ids = {}\n",
        "\n",
        "        for token in special_tokens:\n",
        "            self.add_token(token)\n",
        "\n",
        "        for line in tqdm(datasets['train']):\n",
        "            for w in line:\n",
        "                self.add_token(w)\n",
        "\n",
        "        if include_valid is True:\n",
        "            for line in tqdm(datasets['valid']):\n",
        "                for w in line:\n",
        "                    self.add_token(w)\n",
        "\n",
        "    def add_token(self, w):\n",
        "        if w not in self.tokens:\n",
        "            self.tokens.append(w)\n",
        "            _w_id = len(self.tokens) - 1\n",
        "            self.ids[w] = _w_id\n",
        "\n",
        "    def get_id(self, w):\n",
        "        if w not in self.ids:\n",
        "            return self.ids['<unk>']\n",
        "        return self.ids[w]\n",
        "\n",
        "    def get_token(self, idx):\n",
        "        return self.tokens[idx]\n",
        "\n",
        "    def decode_idx_seq(self, l):\n",
        "        return [self.tokens[i] for i in l]\n",
        "\n",
        "    def encode_token_seq(self, l):\n",
        "        return [self.ids[i] if i in self.ids else self.ids['<unk>'] for i in l]\n",
        "\n",
        "    def __len__(self):\n",
        "        return len(self.tokens)\n",
        "\n",
        "\n",
        "class NgramDataset(Dataset):\n",
        "    def __init__(self, ngram_dataset):\n",
        "        super().__init__()\n",
        "        self.ngrams = [torch.tensor(i, dtype=torch.long) for i in ngram_dataset]\n",
        "\n",
        "    def __getitem__(self, i):\n",
        "        sample = self.ngrams[i]\n",
        "        return sample\n",
        "\n",
        "    def __len__(self):\n",
        "        return len(self.ngrams)\n",
        "\n",
        "def load_personachat(basedir):\n",
        "    datasets_fnames = {\n",
        "        'train': os.path.join(basedir, 'personachat_all_sentences_train.jsonl'),\n",
        "        'valid': os.path.join(basedir, 'personachat_all_sentences_valid.jsonl'),\n",
        "        'test': os.path.join(basedir, 'personachat_all_sentences_test.jsonl'),\n",
        "    }\n",
        "    datasets_text = {\n",
        "        'train': [],\n",
        "        'valid': [],\n",
        "        'test': [],\n",
        "    }\n",
        "    for split, fname in datasets_fnames.items():\n",
        "        for token_dict in jsonlines.open(fname):\n",
        "            datasets_text[split].append(token_dict['tokens'])\n",
        "    return datasets_text\n",
        "\n",
        "\n",
        "# =========== N-gram =========\n",
        "def batchify(list_minibatch):\n",
        "    inp_list = [i[:-1] for i in list_minibatch]\n",
        "    tar_list = [i[-1] for i in list_minibatch]\n",
        "\n",
        "    inp_tensor = torch.stack(inp_list, dim=0)\n",
        "    tar_tensor = torch.stack(tar_list, dim=0)\n",
        "\n",
        "    return inp_tensor, tar_tensor\n",
        "\n",
        "\n",
        "def tokenize_dataset(datasets, dictionary, ngram_order=2):\n",
        "    tokenized_datasets = {}\n",
        "    for split, dataset in datasets.items():\n",
        "        _current_dictified = []\n",
        "        for l in dataset:\n",
        "            l = ['<bos>'] * (ngram_order - 1) + l + ['<eos>']\n",
        "            encoded_l = dictionary.encode_token_seq(l)\n",
        "            _current_dictified.append(encoded_l)\n",
        "        tokenized_datasets[split] = _current_dictified\n",
        "    return tokenized_datasets\n",
        "\n",
        "\n",
        "def slice_into_ngrams(tokenized_dataset, ngram_order=5):\n",
        "    \"\"\"This function slices the input sequence into ngrams, e.g:\n",
        "            [0,1,2,3,4,5] with `ngram_order=2` will be sliced into bigrams:\n",
        "            [0,1], [1,2], [2,3], [3,4], [4,5].\"\"\"\n",
        "    sliced_datasets = {}\n",
        "    for split, dataset in tokenized_dataset.items():\n",
        "        _list_of_sliced_ngrams = []\n",
        "        for seq in dataset:\n",
        "            ngrams = [seq[i:i+ngram_order] for i in range(len(seq)-ngram_order+1)]\n",
        "            _list_of_sliced_ngrams.extend(ngrams)\n",
        "        sliced_datasets[split] = _list_of_sliced_ngrams\n",
        "    return sliced_datasets\n",
        "\n",
        "\n",
        "# ======== RNN ===========\n",
        "class TensoredDataset(Dataset):\n",
        "    def __init__(self, list_of_lists_of_tokens, pad_token_id):\n",
        "        self.input_tensors = []\n",
        "        self.target_tensors = []\n",
        "        self.pad = pad_token_id\n",
        "\n",
        "        for sample in list_of_lists_of_tokens:\n",
        "            self.input_tensors.append(\n",
        "                torch.tensor([sample[:-1]], dtype=torch.long)\n",
        "            )\n",
        "            self.target_tensors.append(\n",
        "                torch.tensor([sample[1:]], dtype=torch.long)\n",
        "            )\n",
        "\n",
        "    def __len__(self):\n",
        "        return len(self.input_tensors)\n",
        "\n",
        "    def __getitem__(self, idx):\n",
        "        return self.input_tensors[idx], self.target_tensors[idx]\n",
        "\n",
        "    def pad_collate_fn(self, batch):\n",
        "        input_list = [s[0] for s in batch]\n",
        "        target_list = [s[1] for s in batch]\n",
        "        input_tensor = self.pad_list_of_tensors(input_list)\n",
        "        target_tensor = self.pad_list_of_tensors(target_list)\n",
        "        return input_tensor, target_tensor\n",
        "\n",
        "    def pad_list_of_tensors(self, list_of_tensors):\n",
        "        max_length = max([t.size(-1) for t in list_of_tensors])\n",
        "        padded_list = []\n",
        "        for t in list_of_tensors:\n",
        "            padded_tensor = torch.cat(\n",
        "                [t, torch.tensor([[self.pad] * (max_length - t.size(-1))], dtype=torch.long)],\n",
        "                dim=-1\n",
        "            )\n",
        "            padded_list.append(padded_tensor)\n",
        "\n",
        "        padded_tensor = torch.cat(padded_list, dim=0)\n",
        "        return padded_tensor\n"
      ],
      "execution_count": 0,
      "outputs": []
    },
    {
      "cell_type": "code",
      "metadata": {
        "colab_type": "code",
        "id": "TsLd-pAlbj-Y",
        "colab": {}
      },
      "source": [
        "# import data as data_utils"
      ],
      "execution_count": 0,
      "outputs": []
    },
    {
      "cell_type": "code",
      "metadata": {
        "id": "jceQ8f_s7Buw",
        "colab_type": "code",
        "colab": {}
      },
      "source": [
        "datasets = load_personachat('./')"
      ],
      "execution_count": 0,
      "outputs": []
    },
    {
      "cell_type": "code",
      "metadata": {
        "colab_type": "code",
        "id": "UYIBNnOwO9wa",
        "outputId": "5cc3dc28-5f9e-4a25-a0b3-28cd9fea159d",
        "colab": {
          "base_uri": "https://localhost:8080/",
          "height": 54
        }
      },
      "source": [
        "datasets = load_personachat('./')\n",
        "dictionary = Dictionary(datasets, include_valid=True)"
      ],
      "execution_count": 6,
      "outputs": [
        {
          "output_type": "stream",
          "text": [
            "100%|██████████| 133176/133176 [00:15<00:00, 8330.34it/s]\n",
            "100%|██████████| 16181/16181 [00:02<00:00, 6301.71it/s]\n"
          ],
          "name": "stderr"
        }
      ]
    },
    {
      "cell_type": "markdown",
      "metadata": {
        "id": "wtympklE4b2f",
        "colab_type": "text"
      },
      "source": [
        "Let's look at an example from the dataset (note that in addition to `train` we also have `valid`, `test` splits):"
      ]
    },
    {
      "cell_type": "code",
      "metadata": {
        "id": "6ImdOqZf4b2h",
        "colab_type": "code",
        "outputId": "ada83437-f505-46e9-ed36-55baa2abedcf",
        "colab": {
          "base_uri": "https://localhost:8080/",
          "height": 146
        }
      },
      "source": [
        "index = 0\n",
        "split = 'train'\n",
        "encoded = dictionary.encode_token_seq(datasets[split][index])\n",
        "decoded = dictionary.decode_idx_seq(encoded)\n",
        "\n",
        "print(\"Dataset size %d (train), %d (valid), %d (test).\\n\" %\n",
        "     (len(datasets['train']), \n",
        "      len(datasets['valid']), \n",
        "      len(datasets['test'])))\n",
        "print(' '.join(datasets[split][index]))\n",
        "print(f'\\n word indices - {encoded}')\n",
        "print(f'\\n words - {decoded}')"
      ],
      "execution_count": 7,
      "outputs": [
        {
          "output_type": "stream",
          "text": [
            "Dataset size 133176 (train), 16181 (valid), 15608 (test).\n",
            "\n",
            "i am doing great except for the allergies .\n",
            "\n",
            " word indices - [4, 5, 6, 7, 8, 9, 10, 11, 12]\n",
            "\n",
            " words - ['i', 'am', 'doing', 'great', 'except', 'for', 'the', 'allergies', '.']\n"
          ],
          "name": "stdout"
        }
      ]
    },
    {
      "cell_type": "markdown",
      "metadata": {
        "id": "pRSCcMLs4b2l",
        "colab_type": "text"
      },
      "source": [
        "Now we add `<bos>`, `<eos>`, and turn each **sequence** into **n-grams**:"
      ]
    },
    {
      "cell_type": "code",
      "metadata": {
        "id": "T72JnKqz4b2m",
        "colab_type": "code",
        "outputId": "2718c9e6-5421-4098-fdb5-37b33e18674c",
        "colab": {
          "base_uri": "https://localhost:8080/",
          "height": 384
        }
      },
      "source": [
        "ngram_order = 5\n",
        "tokenized_datasets = tokenize_dataset(datasets, dictionary, ngram_order)\n",
        "ngram_datasets = slice_into_ngrams(tokenized_datasets, ngram_order)\n",
        "\n",
        "for i in range(10):\n",
        "    decoded = dictionary.decode_idx_seq(ngram_datasets[split][index+i])\n",
        "    print(f'\\n {i} - {decoded}')"
      ],
      "execution_count": 8,
      "outputs": [
        {
          "output_type": "stream",
          "text": [
            "\n",
            " 0 - ['<bos>', '<bos>', '<bos>', '<bos>', 'i']\n",
            "\n",
            " 1 - ['<bos>', '<bos>', '<bos>', 'i', 'am']\n",
            "\n",
            " 2 - ['<bos>', '<bos>', 'i', 'am', 'doing']\n",
            "\n",
            " 3 - ['<bos>', 'i', 'am', 'doing', 'great']\n",
            "\n",
            " 4 - ['i', 'am', 'doing', 'great', 'except']\n",
            "\n",
            " 5 - ['am', 'doing', 'great', 'except', 'for']\n",
            "\n",
            " 6 - ['doing', 'great', 'except', 'for', 'the']\n",
            "\n",
            " 7 - ['great', 'except', 'for', 'the', 'allergies']\n",
            "\n",
            " 8 - ['except', 'for', 'the', 'allergies', '.']\n",
            "\n",
            " 9 - ['for', 'the', 'allergies', '.', '<eos>']\n"
          ],
          "name": "stdout"
        }
      ]
    },
    {
      "cell_type": "markdown",
      "metadata": {
        "id": "_C2G1_PD4b2p",
        "colab_type": "text"
      },
      "source": [
        "Finally, we create a **Pytorch** `Dataset` and `DataLoader` that can be used for training a neural network."
      ]
    },
    {
      "cell_type": "code",
      "metadata": {
        "colab_type": "code",
        "id": "401zpVGvNcmR",
        "colab": {}
      },
      "source": [
        "from torch.utils.data import DataLoader\n",
        "\n",
        "datasets = {}\n",
        "dataloaders = {}\n",
        "for split, dataset in ngram_datasets.items():\n",
        "    dataset_ = NgramDataset(dataset)\n",
        "    datasets[split] = dataset_\n",
        "    dataloaders[split] = DataLoader(\n",
        "        dataset_, \n",
        "        batch_size=2048, \n",
        "        shuffle=(split == 'train'), \n",
        "        collate_fn=batchify\n",
        "    )"
      ],
      "execution_count": 0,
      "outputs": []
    },
    {
      "cell_type": "markdown",
      "metadata": {
        "id": "E2_hsHAX4b2v",
        "colab_type": "text"
      },
      "source": [
        "### 2. Defining the model\n",
        "\n",
        "\n",
        "#### How do we represent the input $x_t$? \n",
        "\n",
        "Each $x_t$ is an **integer** (token id), and we transform it into a **vector** $f_{\\text{embed}}(x_t)\\in\\mathbb{R}^d$ using an `Embedding` layer."
      ]
    },
    {
      "cell_type": "markdown",
      "metadata": {
        "colab_type": "text",
        "id": "jlUBUtnhbj-f"
      },
      "source": [
        "An embedding layer serves as a differentiable look-up table. Given an integer token id, it returns a vector representation which we call an **embedding**."
      ]
    },
    {
      "cell_type": "code",
      "metadata": {
        "colab_type": "code",
        "id": "F7wBvXaYbj-g",
        "colab": {}
      },
      "source": [
        "import torch\n",
        "from torch.nn import Embedding\n",
        "# Embedding??"
      ],
      "execution_count": 0,
      "outputs": []
    },
    {
      "cell_type": "code",
      "metadata": {
        "colab_type": "code",
        "id": "hPUY40tXbj-m",
        "colab": {}
      },
      "source": [
        "lookup = Embedding(\n",
        "    num_embeddings=len(dictionary), \n",
        "    embedding_dim=16, \n",
        "    padding_idx=dictionary.get_id('<pad>')\n",
        ")"
      ],
      "execution_count": 0,
      "outputs": []
    },
    {
      "cell_type": "code",
      "metadata": {
        "colab_type": "code",
        "id": "eSDJy98Jbj-o",
        "outputId": "021faeb4-db71-418e-ac2f-7b3e1bbf2c6f",
        "colab": {
          "base_uri": "https://localhost:8080/",
          "height": 35
        }
      },
      "source": [
        "lookup.weight.size()"
      ],
      "execution_count": 12,
      "outputs": [
        {
          "output_type": "execute_result",
          "data": {
            "text/plain": [
              "torch.Size([20089, 16])"
            ]
          },
          "metadata": {
            "tags": []
          },
          "execution_count": 12
        }
      ]
    },
    {
      "cell_type": "code",
      "metadata": {
        "colab_type": "code",
        "id": "3WMCuASKbj-s",
        "outputId": "7b79a725-7e11-4bcd-ed0d-605d6b998400",
        "colab": {
          "base_uri": "https://localhost:8080/",
          "height": 109
        }
      },
      "source": [
        "input_ = dictionary.encode_token_seq(['hello', 'world'])\n",
        "print(f'token ids: {[input_]}')\n",
        "\n",
        "input_embedded = lookup(torch.tensor([input_], dtype=torch.long))\n",
        "print(f'tokens embedding size: {input_embedded.size()}')\n",
        "\n",
        "print(\"embedding for 'hello' (179):\")\n",
        "input_embedded[0, 0].data"
      ],
      "execution_count": 13,
      "outputs": [
        {
          "output_type": "stream",
          "text": [
            "token ids: [[179, 373]]\n",
            "tokens embedding size: torch.Size([1, 2, 16])\n",
            "embedding for 'hello' (179):\n"
          ],
          "name": "stdout"
        },
        {
          "output_type": "execute_result",
          "data": {
            "text/plain": [
              "tensor([ 1.4737,  0.5895, -0.2476,  1.1244,  0.4256, -0.5406,  0.4918,  0.0361,\n",
              "         0.0975,  0.9042, -0.2095,  0.1825, -0.9228,  0.7977, -1.0766,  0.9453])"
            ]
          },
          "metadata": {
            "tags": []
          },
          "execution_count": 13
        }
      ]
    },
    {
      "cell_type": "markdown",
      "metadata": {
        "id": "5Ck-7MXj4b28",
        "colab_type": "text"
      },
      "source": [
        "### Defining the neural network\n",
        "\n",
        "There are three components:\n",
        "1. `Embedding` $$\\large f_{embed}:\\text{vocab}\\rightarrow \\mathbb{R}^d$$\n",
        "2. Hidden layer $$\\large f_{hidden}: \\mathbb{R}^{nd}\\rightarrow \\mathbb{R}^h$$\n",
        "3. Projection $$\\large f_{project}: \\mathbb{R}^{h}\\rightarrow \\mathbb{R}^{|vocab|}$$\n",
        "\n",
        "The conditional distribution is then: $$\\large p(x_t|x_{t-1},\\ldots,x_{t-n-1})=\\text{softmax}(f_{project}(f_{hidden}(f_{embed}(x_{t-1},\\ldots,x_{t-n-1}))).$$\n",
        "\n",
        "\n",
        "We implement the hidden layer and projection with Pytorch `nn.Linear` layers:"
      ]
    },
    {
      "cell_type": "code",
      "metadata": {
        "colab_type": "code",
        "id": "dvlP70FiOrJ3",
        "colab": {}
      },
      "source": [
        "import torch\n",
        "import torch.nn as nn\n",
        "\n",
        "class NeuralNgramLM(nn.Module):\n",
        "    def __init__(self, options):\n",
        "        super().__init__()\n",
        "        self.lookup = nn.Embedding(\n",
        "            num_embeddings=options['num_embeddings'], \n",
        "            embedding_dim=options['embedding_dim']\n",
        "        )\n",
        "        self.hidden_layer = nn.Linear(\n",
        "            options['input_size'], \n",
        "            options['hidden_size'], \n",
        "            bias=True\n",
        "        )\n",
        "        self.projection = nn.Linear(\n",
        "            options['hidden_size'], \n",
        "            options['num_embeddings']\n",
        "        )\n",
        "\n",
        "    def forward(self, inp):\n",
        "        embedded = self.lookup(inp)\n",
        "        embedded_timeflat = embedded.view(embedded.size(0), -1)\n",
        "        hidden_out = self.hidden_layer(embedded_timeflat)\n",
        "        hidden_out = torch.tanh(hidden_out)\n",
        "        logits = self.projection(hidden_out)\n",
        "        return logits"
      ],
      "execution_count": 0,
      "outputs": []
    },
    {
      "cell_type": "markdown",
      "metadata": {
        "id": "8naH4u6b4b3A",
        "colab_type": "text"
      },
      "source": [
        "### 3. Train the model\n",
        "\n",
        "#### Initialize the model, criterion (loss), and optimizer"
      ]
    },
    {
      "cell_type": "code",
      "metadata": {
        "colab_type": "code",
        "id": "VfjWvd6jTDjh",
        "colab": {}
      },
      "source": [
        "import os\n",
        "import torch\n",
        "import torch.nn as nn\n",
        "import torch.optim as optim\n",
        "\n",
        "load_pretrained = True\n",
        "\n",
        "num_gpus = torch.cuda.device_count()\n",
        "if num_gpus > 0:\n",
        "    current_device = 'cuda'\n",
        "else:\n",
        "    current_device = 'cpu'\n",
        "\n",
        "if load_pretrained:\n",
        "    if not os.path.exists('personachat_ffnn_lm.pt'):\n",
        "        raise EOFError('No model downloaded!')\n",
        "    model_dict = torch.load(\n",
        "        'personachat_ffnn_lm.pt',\n",
        "        map_location=torch.device(current_device)\n",
        "    )\n",
        "    \n",
        "    options = model_dict['options']\n",
        "    model = NeuralNgramLM(options).to(current_device)\n",
        "    model.load_state_dict(\n",
        "        model_dict['model_dict']\n",
        "    )\n",
        "    \n",
        "else:\n",
        "    embedding_size = 256\n",
        "    ngram_order = 4\n",
        "    input_size = embedding_size * ngram_order\n",
        "    hidden_size = 512\n",
        "\n",
        "    options = {\n",
        "        'num_embeddings': len(dictionary),\n",
        "        'embedding_dim': embedding_size,\n",
        "        'input_size': input_size,\n",
        "        'hidden_size': hidden_size,\n",
        "    }\n",
        "    model = NeuralNgramLM(options).to(current_device)\n",
        "\n",
        "criterion = nn.CrossEntropyLoss(\n",
        "    ignore_index=dictionary.get_id('<pad>'), \n",
        "    reduction='sum'\n",
        ")\n",
        "\n",
        "model_parameters = [p for p in model.parameters() if p.requires_grad]\n",
        "optimizer = optim.SGD(model_parameters, lr=0.01, momentum=0.99)"
      ],
      "execution_count": 0,
      "outputs": []
    },
    {
      "cell_type": "markdown",
      "metadata": {
        "id": "IT9XNvrH4b3E",
        "colab_type": "text"
      },
      "source": [
        "#### Training Loop"
      ]
    },
    {
      "cell_type": "code",
      "metadata": {
        "colab_type": "code",
        "id": "dHeMz2Q2ULYQ",
        "colab": {}
      },
      "source": [
        "plot_cache = []\n",
        "\n",
        "if not load_pretrained:\n",
        "    for epoch_number in range(10):\n",
        "        avg_loss = -1\n",
        "\n",
        "        # -- Training\n",
        "        model.train()\n",
        "\n",
        "        train_loss_cache = 0\n",
        "        train_non_pad_tokens_cache = 0\n",
        "\n",
        "        # == Iterate through batches from the dataset.\n",
        "        for i, (inp, target) in enumerate(dataloaders['train']):\n",
        "            optimizer.zero_grad()\n",
        "            inp = inp.to(current_device)\n",
        "            target = target.to(current_device)\n",
        "\n",
        "            # == Forward pass.\n",
        "            logits = model(inp)\n",
        "\n",
        "            # == Computed (summed) loss.\n",
        "            loss = criterion(logits.view(-1, logits.size(-1)), target.view(-1))\n",
        "            train_loss_cache += loss.item()\n",
        "\n",
        "            # == Compute the number of non `<pad>` tokens in the target.\n",
        "            non_pad_tokens = target.view(-1).ne(dictionary.get_id('<pad>')).sum().item()\n",
        "\n",
        "            # == Normalize the (summed) loss so that it is an average.\n",
        "            loss /= non_pad_tokens  \n",
        "            loss.backward()\n",
        "            optimizer.step()\n",
        "\n",
        "            train_non_pad_tokens_cache += non_pad_tokens\n",
        "            if i % 100 == 0:\n",
        "                avg_loss = train_loss_cache/train_non_pad_tokens_cache\n",
        "                print('Step {} avg train loss = {:.{prec}f}'.format(i, avg_loss, prec=4))\n",
        "\n",
        "        # -- Validation\n",
        "        valid_loss_cache = 0\n",
        "        valid_non_pad_tokens_cache = 0\n",
        "\n",
        "        model.eval()\n",
        "        with torch.no_grad():\n",
        "            non_pad_tokens = 0\n",
        "            for i, (inp, target) in enumerate(dataloaders['valid']):\n",
        "                inp = inp.to(current_device)\n",
        "                target = target.to(current_device)\n",
        "\n",
        "                # == Forward pass and loss\n",
        "                logits = model(inp)\n",
        "                loss = criterion(logits.view(-1, logits.size(-1)), target.view(-1))\n",
        "                valid_loss_cache += loss.item()            \n",
        "\n",
        "                # == Normalize the loss\n",
        "                non_pad_tokens = target.view(-1).ne(dictionary.get_id('<pad>')).sum().item()\n",
        "                valid_non_pad_tokens_cache += non_pad_tokens\n",
        "\n",
        "            avg_val_loss = valid_loss_cache / valid_non_pad_tokens_cache\n",
        "            print('Validation loss after {} epoch = {:.{prec}f}'.format(epoch_number, avg_val_loss, prec=4))\n",
        "\n",
        "        plot_cache.append((avg_loss, avg_val_loss))"
      ],
      "execution_count": 0,
      "outputs": []
    },
    {
      "cell_type": "code",
      "metadata": {
        "colab_type": "code",
        "id": "DEjiLvdFmjrg",
        "colab": {}
      },
      "source": [
        "if load_pretrained:\n",
        "    plot_cache = model_dict['loss_cache']"
      ],
      "execution_count": 0,
      "outputs": []
    },
    {
      "cell_type": "code",
      "metadata": {
        "colab_type": "code",
        "id": "C0nNouO4Z-TJ",
        "outputId": "aae1e922-daed-4c27-ede9-8d43983a8865",
        "colab": {
          "base_uri": "https://localhost:8080/",
          "height": 281
        }
      },
      "source": [
        "import matplotlib.pyplot as plt\n",
        "import numpy\n",
        "\n",
        "epochs = numpy.array(list(range(len(plot_cache))))\n",
        "plt.plot(epochs, [i[0] for i in plot_cache], label='Train loss')\n",
        "plt.plot(epochs, [i[1] for i in plot_cache], label='Valid loss')\n",
        "\n",
        "plt.legend()\n",
        "plt.title('Loss curves')\n",
        "plt.show()"
      ],
      "execution_count": 21,
      "outputs": [
        {
          "output_type": "display_data",
          "data": {
            "image/png": "[encoded data removed]",
            "text/plain": [
              "<Figure size 432x288 with 1 Axes>"
            ]
          },
          "metadata": {
            "tags": []
          }
        }
      ]
    },
    {
      "cell_type": "markdown",
      "metadata": {
        "colab_type": "text",
        "id": "UTyb2zZYbj_O"
      },
      "source": [
        "### 4. Evaluate the model\n",
        "\n",
        "#### Recap: Perplexity\n",
        "Recall **perplexity** from the preceding lab:\n",
        "\n",
        "\\begin{align}\n",
        "\\large \\text{ppl}(p, D) &\\large = 2^{-\\frac{1}{N_{total}}\\log_2 p(D)}\n",
        "\\end{align}\n",
        "\n",
        "where $D=\\{(w_1,\\ldots,w_{N_i})_i\\}_{i=1}^M$ is a dataset of $M$ sequences with total length $N_{\\text{total}}=\\sum_{i}N_i$.\n",
        "\n",
        "#### Computing perplexity\n",
        "\n",
        "Our model's loss is the (negative) log probability of every token in the output sequence, which can be used to compute perplexity.\n",
        "\n",
        "We define perplexity using the **base 2** logarithm. By default `torch.log` uses base `e`. \n",
        "\n",
        "To **convert to base 2** we use: `log_2 p = log_e p / log_e 2`."
      ]
    },
    {
      "cell_type": "code",
      "metadata": {
        "colab_type": "code",
        "id": "dcuSFVZvbmWR",
        "outputId": "d40dff74-dab4-4889-9699-005e050543ef",
        "colab": {
          "base_uri": "https://localhost:8080/",
          "height": 281
        }
      },
      "source": [
        "import matplotlib.pyplot as plt\n",
        "import numpy\n",
        "\n",
        "epochs = numpy.array(list(range(len(plot_cache))))\n",
        "plt.plot(epochs, [2**(i[0]/numpy.log(2)) for i in plot_cache], label='Train ppl')\n",
        "plt.plot(epochs, [2**(i[1]/numpy.log(2)) for i in plot_cache], label='Valid ppl')\n",
        "\n",
        "plt.legend()\n",
        "plt.title('PPL curves')\n",
        "plt.show()"
      ],
      "execution_count": 22,
      "outputs": [
        {
          "output_type": "display_data",
          "data": {
            "image/png": "[encoded data removed]",
            "text/plain": [
              "<Figure size 432x288 with 1 Axes>"
            ]
          },
          "metadata": {
            "tags": []
          }
        }
      ]
    },
    {
      "cell_type": "code",
      "metadata": {
        "colab_type": "code",
        "id": "9t_WHUYcOe_8",
        "colab": {}
      },
      "source": [
        "# Saving the model\n",
        "if False:\n",
        "    torch.save({\n",
        "        'options': options,\n",
        "        'loss_cache': plot_cache,\n",
        "        'model_dict': model.state_dict()\n",
        "    }, './persona_ffnn_lm.pt')"
      ],
      "execution_count": 0,
      "outputs": []
    },
    {
      "cell_type": "markdown",
      "metadata": {
        "id": "IiCddv6N4b3Z",
        "colab_type": "text"
      },
      "source": [
        "#### Conditional probability queries\n",
        "We can now query the model for conditional probabilities:\n",
        "\n",
        "\\begin{align}\n",
        "\\large p(x_t|x_{t-1},\\ldots,x_{t-4}) \n",
        "\\end{align} "
      ]
    },
    {
      "cell_type": "code",
      "metadata": {
        "id": "hv39trjM4b3Z",
        "colab_type": "code",
        "outputId": "0caf9d63-0087-4b37-e10f-cbf0d89c15f2",
        "colab": {
          "base_uri": "https://localhost:8080/",
          "height": 90
        }
      },
      "source": [
        "import torch\n",
        "\n",
        "def next_token_probabilities(prefix, token):\n",
        "    inp = dictionary.encode_token_seq(prefix.split(' '))\n",
        "    with torch.no_grad():\n",
        "        model.eval()\n",
        "        logits = model(\n",
        "            torch.tensor([inp], dtype=torch.long).to(current_device)\n",
        "        )\n",
        "    token_id = dictionary.get_id(token)\n",
        "    p_next_token = torch.softmax(logits, dim=-1)\n",
        "    return p_next_token[0, token_id]\n",
        "\n",
        "prefix = '<bos> i have a'\n",
        "\n",
        "for w in ['dog', 'zebra', 'donut', 'velociraptor']:\n",
        "    prob = next_token_probabilities(prefix, w)\n",
        "    print('p( %s  | %s )\\t= %.3E' % (w, prefix, prob))\n",
        "    "
      ],
      "execution_count": 24,
      "outputs": [
        {
          "output_type": "stream",
          "text": [
            "p( dog  | <bos> i have a )\t= 7.468E-02\n",
            "p( zebra  | <bos> i have a )\t= 1.473E-04\n",
            "p( donut  | <bos> i have a )\t= 7.881E-06\n",
            "p( velociraptor  | <bos> i have a )\t= 1.323E-06\n"
          ],
          "name": "stdout"
        }
      ]
    },
    {
      "cell_type": "markdown",
      "metadata": {
        "id": "SRLcMy764b3e",
        "colab_type": "text"
      },
      "source": [
        "\n",
        "\n",
        "And sort by the highest probability next-tokens:\n",
        "\n",
        "$\\large \\texttt{sort}(p(\\cdot|\\underbrace{x_{<t}}_{\\text{prefix}}))$"
      ]
    },
    {
      "cell_type": "code",
      "metadata": {
        "colab_type": "code",
        "id": "l4zVv--owi3d",
        "outputId": "6ff8474a-a253-483f-d343-ccb2948becab",
        "colab": {
          "base_uri": "https://localhost:8080/",
          "height": 201
        }
      },
      "source": [
        "def get_top_token_given_prefix(prefix, top=10):\n",
        "    inp = dictionary.encode_token_seq(prefix.split(' '))\n",
        "    with torch.no_grad():\n",
        "        model.eval()\n",
        "        logits = model(\n",
        "            torch.tensor([inp], dtype=torch.long).to(current_device)\n",
        "        )\n",
        "        \n",
        "    p_next_token = torch.softmax(logits, dim=-1)\n",
        "    sorted_probs, sorted_token_ids = torch.topk(p_next_token[0], top)\n",
        "\n",
        "    for i in range(sorted_token_ids.size(0)):\n",
        "        print('p( %s  | %s )\\t= %.5f' % \n",
        "              (dictionary.decode_idx_seq([sorted_token_ids[i]])[0], \n",
        "               prefix, \n",
        "               sorted_probs[i])\n",
        "        )\n",
        "\n",
        "get_top_token_given_prefix('<bos> i have a')  # '<bos> the weather is'  '<bos> <bos> <bos> hello'"
      ],
      "execution_count": 25,
      "outputs": [
        {
          "output_type": "stream",
          "text": [
            "p( dog  | <bos> i have a )\t= 0.07468\n",
            "p( cat  | <bos> i have a )\t= 0.04418\n",
            "p( lot  | <bos> i have a )\t= 0.04310\n",
            "p( job  | <bos> i have a )\t= 0.03759\n",
            "p( couple  | <bos> i have a )\t= 0.03458\n",
            "p( few  | <bos> i have a )\t= 0.02293\n",
            "p( black  | <bos> i have a )\t= 0.01704\n",
            "p( little  | <bos> i have a )\t= 0.01618\n",
            "p( hard  | <bos> i have a )\t= 0.01604\n",
            "p( very  | <bos> i have a )\t= 0.01478\n"
          ],
          "name": "stdout"
        }
      ]
    },
    {
      "cell_type": "markdown",
      "metadata": {
        "id": "UkGvr6Ni4b3i",
        "colab_type": "raw"
      },
      "source": [
        ""
      ]
    },
    {
      "cell_type": "markdown",
      "metadata": {
        "colab_type": "text",
        "id": "Eb9Va-p4bj96"
      },
      "source": [
        "# Recurrent neural network language model\n",
        "Recall that in **language modeling**, we want to model the probability of variable length sequences, $$p(x_1,\\ldots,x_T)=\\prod_{t=1}^T p(x_t|x_{<t}).$$\n",
        "\n",
        "*Unlike n-gram models*, we will now define a model that allows a **full history** $x_{<t}$.\n",
        "\n",
        "To do so, we will use a function called a **recurrent neural network** to compute each distribution $p(x_t|x_{<t})$:\n",
        "\\begin{align}\n",
        "h_t &= f^{\\text{RNN}}_{\\theta}(x_{t-1}, h_{t-1}) & \\mathbb{R}^d\\\\\n",
        "s_t &= Wh_t & \\mathbb{R}^{\\text{|vocab|}}\\\\\n",
        "p_{\\theta}(x_t|x_{<t}) &= \\text{softmax}(s_t) & [0,1]^{\\text{|vocab|}}\n",
        "\\end{align}\n",
        "\n",
        "where $h_t$ is an internal (hidden) state of the model at time step $t$, and $x_t$ is an input at time step $t$.\n",
        "\n",
        "<img src=\"img/rnn.png\" alt=\"Drawing\" style=\"width: 35%; margin-left: 29%; padding: 3em;\"/>"
      ]
    },
    {
      "cell_type": "markdown",
      "metadata": {
        "id": "j2Qeej784b3k",
        "colab_type": "text"
      },
      "source": [
        "\n",
        "In the simplest form used in practice, $f_{\\theta}^{\\text{RNN}}$ is defined as:\n",
        " $$f_{\\theta}^{\\text{RNN}}(x_{t-1}, h_{t-1}) = \\text{tanh}(a_t)\\\\ a_t = b + W \\cdot h_{t-1} + U \\cdot x_{t-1},$$\n",
        " \n",
        "but there are other variants (e.g. [GRU](https://arxiv.org/pdf/1406.1078.pdf), [LSTM](https://www.bioinf.jku.at/publications/older/2604.pdf)).\n",
        "\n",
        "Similar to the n-gram neural network above, the goal at time $t$ is to **predict the next token $x_t$**."
      ]
    },
    {
      "cell_type": "markdown",
      "metadata": {
        "colab_type": "text",
        "id": "DLTwdNF-bj97"
      },
      "source": [
        "### Pytorch implementation: `RNNCell`"
      ]
    },
    {
      "cell_type": "code",
      "metadata": {
        "colab_type": "code",
        "id": "F1WfgVLybj98",
        "colab": {}
      },
      "source": [
        "from torch.nn import RNNCell\n",
        "# RNNCell??"
      ],
      "execution_count": 0,
      "outputs": []
    },
    {
      "cell_type": "code",
      "metadata": {
        "colab_type": "code",
        "id": "OseW45d9bj9_",
        "colab": {}
      },
      "source": [
        "import torch\n",
        "hidden_size = 16\n",
        "embedding_dim = 8\n",
        "\n",
        "rnn_cell = RNNCell(embedding_dim, hidden_size)"
      ],
      "execution_count": 0,
      "outputs": []
    },
    {
      "cell_type": "code",
      "metadata": {
        "colab_type": "code",
        "id": "UnPEPW5Nbj-B",
        "outputId": "faf1e635-f184-4f09-e825-84c548182e6c",
        "colab": {
          "base_uri": "https://localhost:8080/",
          "height": 54
        }
      },
      "source": [
        "hidden = torch.zeros(1, hidden_size)\n",
        "print(hidden)\n",
        "print(hidden.size())"
      ],
      "execution_count": 28,
      "outputs": [
        {
          "output_type": "stream",
          "text": [
            "tensor([[0., 0., 0., 0., 0., 0., 0., 0., 0., 0., 0., 0., 0., 0., 0., 0.]])\n",
            "torch.Size([1, 16])\n"
          ],
          "name": "stdout"
        }
      ]
    },
    {
      "cell_type": "code",
      "metadata": {
        "colab_type": "code",
        "id": "9TIjbLsMbj-C",
        "outputId": "fa00503c-0659-40b5-e957-584e369a1f16",
        "colab": {
          "base_uri": "https://localhost:8080/",
          "height": 54
        }
      },
      "source": [
        "random_input = torch.rand(1, embedding_dim)\n",
        "print(random_input)\n",
        "print(random_input.size())"
      ],
      "execution_count": 29,
      "outputs": [
        {
          "output_type": "stream",
          "text": [
            "tensor([[0.1769, 0.0156, 0.2883, 0.4019, 0.2172, 0.5596, 0.8161, 0.7173]])\n",
            "torch.Size([1, 8])\n"
          ],
          "name": "stdout"
        }
      ]
    },
    {
      "cell_type": "code",
      "metadata": {
        "colab_type": "code",
        "id": "1n2k_CEBbj-E",
        "outputId": "39072ef9-ed7f-4aed-dc03-63000acf0a3e",
        "colab": {
          "base_uri": "https://localhost:8080/",
          "height": 90
        }
      },
      "source": [
        "hidden = rnn_cell(random_input, hidden)\n",
        "print(hidden)\n",
        "print(hidden.size())"
      ],
      "execution_count": 30,
      "outputs": [
        {
          "output_type": "stream",
          "text": [
            "tensor([[ 0.4111, -0.1371, -0.1819,  0.2485, -0.0552,  0.3748,  0.1042,  0.0654,\n",
            "         -0.0477, -0.5761,  0.0223, -0.1967,  0.4877,  0.2740, -0.4577, -0.1923]],\n",
            "       grad_fn=<TanhBackward>)\n",
            "torch.Size([1, 16])\n"
          ],
          "name": "stdout"
        }
      ]
    },
    {
      "cell_type": "markdown",
      "metadata": {
        "colab_type": "text",
        "id": "L4QaNlS2bj-O"
      },
      "source": [
        "### Pytorch implementation: `RNN`\n",
        "\n",
        "`RNNCell` is a building block of an RNN model. The Pytorch `RNN` model supports multi-layer networks by creating separate `RNNCell`s for every layer. \n",
        "\n",
        "`RNN` can also process a whole sequence of data by iteratively applying `RNNCell`."
      ]
    },
    {
      "cell_type": "code",
      "metadata": {
        "colab_type": "code",
        "id": "FCvackw4bj-O",
        "colab": {}
      },
      "source": [
        "from torch.nn import RNNBase, RNN\n",
        "# RNNBase.__init__??\n",
        "# RNN.__init__??"
      ],
      "execution_count": 0,
      "outputs": []
    },
    {
      "cell_type": "markdown",
      "metadata": {
        "colab_type": "text",
        "id": "LHqYjtCYbj--"
      },
      "source": [
        "### 1. Define the model"
      ]
    },
    {
      "cell_type": "code",
      "metadata": {
        "colab_type": "code",
        "id": "IdlUbyiybj_A",
        "colab": {}
      },
      "source": [
        "import torch.nn as nn\n",
        "\n",
        "class RNNLanguageModel(nn.Module):\n",
        "    def __init__(self, options):\n",
        "        super().__init__()\n",
        "        \n",
        "        self.lookup = nn.Embedding(\n",
        "            num_embeddings=options['num_embeddings'], \n",
        "            embedding_dim=options['embedding_dim'], \n",
        "            padding_idx=options['padding_idx']\n",
        "        )\n",
        "        self.rnn = nn.RNN(\n",
        "            options['input_size'], \n",
        "            options['hidden_size'], \n",
        "            options['num_layers'], \n",
        "            dropout=options['rnn_dropout'], \n",
        "            batch_first=True\n",
        "        )\n",
        "        self.projection = nn.Linear(\n",
        "            options['hidden_size'], \n",
        "            options['num_embeddings']\n",
        "        )\n",
        "        \n",
        "    def forward(self, token_ids):\n",
        "        embeddings = self.lookup(token_ids)\n",
        "        output, hidden = self.rnn(embeddings)\n",
        "        logits = self.projection(output) \n",
        "        return logits"
      ],
      "execution_count": 0,
      "outputs": []
    },
    {
      "cell_type": "markdown",
      "metadata": {
        "id": "6MF8a-WE4b4D",
        "colab_type": "text"
      },
      "source": [
        "### 2. Prepare the data"
      ]
    },
    {
      "cell_type": "markdown",
      "metadata": {
        "id": "cBf-HTTM4b4D",
        "colab_type": "text"
      },
      "source": [
        "#### Dataset and Dataloader\n",
        "\n",
        "See `data_utils.py` for the implementation. "
      ]
    },
    {
      "cell_type": "code",
      "metadata": {
        "id": "7BTL6YbN4b4E",
        "colab_type": "code",
        "outputId": "2d5b1b83-4cff-4491-e1ad-eb079b6307ec",
        "colab": {
          "base_uri": "https://localhost:8080/",
          "height": 54
        }
      },
      "source": [
        "datasets_ = load_personachat('./')\n",
        "dictionary = Dictionary(datasets_, include_valid=True)\n",
        "datasets_ = tokenize_dataset(datasets_, dictionary)\n",
        "\n",
        "datasets = {}\n",
        "for split, dataset in datasets_.items():\n",
        "    datasets[split] = TensoredDataset(dataset, dictionary.get_id('<pad>'))"
      ],
      "execution_count": 35,
      "outputs": [
        {
          "output_type": "stream",
          "text": [
            "100%|██████████| 133176/133176 [00:16<00:00, 7897.63it/s]\n",
            "100%|██████████| 16181/16181 [00:02<00:00, 6022.15it/s]\n"
          ],
          "name": "stderr"
        }
      ]
    },
    {
      "cell_type": "markdown",
      "metadata": {
        "id": "yidYQOeP4b4H",
        "colab_type": "text"
      },
      "source": [
        "- The **input** is now a **full sequence**.\n",
        "- The **output** is the **next token** for each position of the input:"
      ]
    },
    {
      "cell_type": "code",
      "metadata": {
        "id": "jSOmYZk44b4I",
        "colab_type": "code",
        "outputId": "6416af9d-d57e-4a0b-ebb3-74c85cbdf5ed",
        "colab": {
          "base_uri": "https://localhost:8080/",
          "height": 127
        }
      },
      "source": [
        "inp, out = datasets['train'][0]\n",
        "\n",
        "print(\"Input: \\n\\t%s\\n\\t(%s)\" %\n",
        "      (inp.data[0], dictionary.decode_idx_seq(inp.data[0])))\n",
        "\n",
        "print(\"Output: \\n\\t%s\\n\\t(%s)\" %\n",
        "      (out.data[0], dictionary.decode_idx_seq(out.data[0])))"
      ],
      "execution_count": 36,
      "outputs": [
        {
          "output_type": "stream",
          "text": [
            "Input: \n",
            "\ttensor([ 0,  4,  5,  6,  7,  8,  9, 10, 11, 12])\n",
            "\t(['<bos>', 'i', 'am', 'doing', 'great', 'except', 'for', 'the', 'allergies', '.'])\n",
            "Output: \n",
            "\ttensor([ 4,  5,  6,  7,  8,  9, 10, 11, 12,  1])\n",
            "\t(['i', 'am', 'doing', 'great', 'except', 'for', 'the', 'allergies', '.', '<eos>'])\n"
          ],
          "name": "stdout"
        }
      ]
    },
    {
      "cell_type": "markdown",
      "metadata": {
        "id": "rHWC42r24b4K",
        "colab_type": "text"
      },
      "source": [
        "#### Pytorch dataloader"
      ]
    },
    {
      "cell_type": "code",
      "metadata": {
        "id": "hLsTVHyz4b4L",
        "colab_type": "code",
        "colab": {}
      },
      "source": [
        "dataloaders = {}\n",
        "batch_size = 128\n",
        "\n",
        "for split, dataset in datasets.items():\n",
        "    dataloaders[split] = DataLoader(\n",
        "        dataset, \n",
        "        batch_size=batch_size, \n",
        "        shuffle=True, \n",
        "        collate_fn=dataset.pad_collate_fn  # pads the sequences in the batch\n",
        "    )"
      ],
      "execution_count": 0,
      "outputs": []
    },
    {
      "cell_type": "markdown",
      "metadata": {
        "id": "KgfVEiFl4b4N",
        "colab_type": "text"
      },
      "source": [
        "#### Padding to handle variable sequence lengths:"
      ]
    },
    {
      "cell_type": "code",
      "metadata": {
        "id": "XALwzTg94b4O",
        "colab_type": "code",
        "outputId": "94a617e9-2332-47b3-a94f-5bf012190af1",
        "colab": {
          "base_uri": "https://localhost:8080/",
          "height": 182
        }
      },
      "source": [
        "inp, target = next(dataloaders['train'].__iter__())\n",
        "\n",
        "print(\"Batch size %s\" % str(inp.shape))\n",
        "print(\"Batch element 1: \\n\\t%s\\n\\t(%s)\" %\n",
        "      (inp.data[0], ' '.join(dictionary.decode_idx_seq(inp.data[0]))))\n",
        "print(\"Batch element 2: \\n\\t%s\\n\\t(%s)\" %\n",
        "      (inp.data[1], ' '.join(dictionary.decode_idx_seq(inp.data[1]))))"
      ],
      "execution_count": 38,
      "outputs": [
        {
          "output_type": "stream",
          "text": [
            "Batch size torch.Size([128, 21])\n",
            "Batch element 1: \n",
            "\ttensor([   0,  128,    4, 2861,  949,   35, 2542,  135, 2543,  214,    4,  267,\n",
            "         217,  182,   12,   17,   24,    2,    2,    2,    2])\n",
            "\t(<bos> well i normally listen to kings of leon when i run every morning . you ? <pad> <pad> <pad> <pad>)\n",
            "Batch element 2: \n",
            "\ttensor([   0,    4, 1658,   76,    4,  158, 5238,  365,  625, 1353,  123,    4,\n",
            "        1170,  859,   12,    2,    2,    2,    2,    2,    2])\n",
            "\t(<bos> i felt like i was smarter than everyone else so i left early . <pad> <pad> <pad> <pad> <pad> <pad>)\n"
          ],
          "name": "stdout"
        }
      ]
    },
    {
      "cell_type": "markdown",
      "metadata": {
        "id": "czNMkhBQ4b4T",
        "colab_type": "text"
      },
      "source": [
        "### 3. Train the model\n",
        "\n",
        "#### Initializing model, criterion, and optimizer (similar to the feedforward model)"
      ]
    },
    {
      "cell_type": "code",
      "metadata": {
        "colab_type": "code",
        "id": "zQB-RbIhbj_B",
        "colab": {}
      },
      "source": [
        "import torch\n",
        "import torch.nn as nn\n",
        "import torch.optim as optim\n",
        "\n",
        "load_pretrained = True\n",
        "\n",
        "num_gpus = torch.cuda.device_count()\n",
        "if num_gpus > 0:\n",
        "    current_device = 'cuda'\n",
        "else:\n",
        "    current_device = 'cpu'\n",
        "\n",
        "if load_pretrained:\n",
        "    if not os.path.exists('personachat_rnn_lm.pt'):\n",
        "        raise EOFError('Download pretrained model!')\n",
        "    model_dict = torch.load(\n",
        "        'personachat_rnn_lm.pt',\n",
        "        map_location=torch.device(current_device)\n",
        "    )\n",
        "    \n",
        "    options = model_dict['options']\n",
        "    model = RNNLanguageModel(options).to(current_device)\n",
        "    model.load_state_dict(model_dict['model_dict'])\n",
        "    \n",
        "else:\n",
        "    embedding_size = 256\n",
        "    hidden_size = 512\n",
        "    num_layers = 3\n",
        "    rnn_dropout = 0.3\n",
        "\n",
        "    options = {\n",
        "        'num_embeddings': len(dictionary),\n",
        "        'embedding_dim': embedding_size,\n",
        "        'padding_idx': dictionary.get_id('<pad>'),\n",
        "        'input_size': embedding_size,\n",
        "        'hidden_size': hidden_size,\n",
        "        'num_layers': num_layers,\n",
        "        'rnn_dropout': rnn_dropout,\n",
        "    }\n",
        "    model = RNNLanguageModel(options).to(current_device)\n",
        "    \n",
        "\n",
        "criterion = nn.CrossEntropyLoss(\n",
        "    ignore_index=dictionary.get_id('<pad>'), \n",
        "    reduction='sum'\n",
        ")\n",
        "\n",
        "model_parameters = [p for p in model.parameters() if p.requires_grad]\n",
        "optimizer = optim.SGD(model_parameters, lr=0.001, momentum=0.999)"
      ],
      "execution_count": 0,
      "outputs": []
    },
    {
      "cell_type": "code",
      "metadata": {
        "colab_type": "code",
        "id": "qmMLIrhjbj_D",
        "outputId": "d8b6cb26-96cd-4f29-930d-363efa94e694",
        "colab": {
          "base_uri": "https://localhost:8080/",
          "height": 109
        }
      },
      "source": [
        "model"
      ],
      "execution_count": 40,
      "outputs": [
        {
          "output_type": "execute_result",
          "data": {
            "text/plain": [
              "RNNLanguageModel(\n",
              "  (lookup): Embedding(20089, 256, padding_idx=2)\n",
              "  (rnn): RNN(256, 512, num_layers=3, batch_first=True, dropout=0.3)\n",
              "  (projection): Linear(in_features=512, out_features=20089, bias=True)\n",
              ")"
            ]
          },
          "metadata": {
            "tags": []
          },
          "execution_count": 40
        }
      ]
    },
    {
      "cell_type": "code",
      "metadata": {
        "colab_type": "code",
        "id": "qwBqO3z7bj_L",
        "colab": {}
      },
      "source": [
        "#### Training loop (same as the feedforward model)"
      ],
      "execution_count": 0,
      "outputs": []
    },
    {
      "cell_type": "code",
      "metadata": {
        "colab_type": "code",
        "id": "Fw28_6qXbj_M",
        "colab": {}
      },
      "source": [
        "plot_cache = []\n",
        "\n",
        "if not load_pretrained:\n",
        "    for epoch_number in range(100):\n",
        "        avg_loss = 0\n",
        "        model.train()\n",
        "\n",
        "        train_loss_cache = 0\n",
        "        train_non_pad_tokens_cache = 0\n",
        "\n",
        "        for i, (inp, target) in enumerate(dataloaders['train']):\n",
        "            optimizer.zero_grad()\n",
        "            inp = inp.to(current_device)\n",
        "            target = target.to(current_device)\n",
        "            logits = model(inp)\n",
        "\n",
        "            loss = criterion(logits.view(-1, logits.size(-1)), target.view(-1))\n",
        "            train_loss_cache += loss.item()  # still sum here\n",
        "\n",
        "            non_pad_tokens = target.view(-1).ne(dictionary.get_id('<pad>')).sum().item()            \n",
        "            train_non_pad_tokens_cache += non_pad_tokens\n",
        "\n",
        "            loss /= non_pad_tokens \n",
        "\n",
        "            loss.backward()\n",
        "            optimizer.step()\n",
        "\n",
        "            if i % 100 == 0:\n",
        "                avg_loss = train_loss_cache / train_non_pad_tokens_cache\n",
        "                print('Step {} avg train loss = {:.{prec}f}'.format(i, avg_loss, prec=4))\n",
        "                train_log_cache = []\n",
        "\n",
        "        valid_loss_cache = 0\n",
        "        valid_non_pad_tokens_cache = 0\n",
        "\n",
        "        model.eval()\n",
        "        with torch.no_grad():\n",
        "            for i, (inp, target) in enumerate(dataloaders['valid']):\n",
        "                inp = inp.to(current_device)\n",
        "                target = target.to(current_device)\n",
        "                logits = model(inp)\n",
        "\n",
        "                loss = criterion(logits.view(-1, logits.size(-1)), target.view(-1))\n",
        "                valid_loss_cache += loss.item()  # still sum here\n",
        "                non_pad_tokens = target.view(-1).ne(dictionary.get_id('<pad>')).sum().item()\n",
        "\n",
        "                valid_non_pad_tokens_cache += non_pad_tokens\n",
        "\n",
        "            avg_val_loss = valid_loss_cache / valid_non_pad_tokens_cache\n",
        "\n",
        "            print('Validation loss after {} epoch = {:.{prec}f}'.format(epoch_number, avg_val_loss, prec=4))\n",
        "\n",
        "        plot_cache.append((avg_loss, avg_val_loss))\n"
      ],
      "execution_count": 0,
      "outputs": []
    },
    {
      "cell_type": "code",
      "metadata": {
        "colab_type": "code",
        "id": "KAV_hzMvbj_O",
        "colab": {}
      },
      "source": [
        "if load_pretrained:\n",
        "    plot_cache = model_dict['loss_cache']"
      ],
      "execution_count": 0,
      "outputs": []
    },
    {
      "cell_type": "markdown",
      "metadata": {
        "id": "hur7iBgt4b4l",
        "colab_type": "text"
      },
      "source": [
        "### 4. Evaluation"
      ]
    },
    {
      "cell_type": "code",
      "metadata": {
        "colab_type": "code",
        "id": "fhTtmqBfufyE",
        "outputId": "bba406d8-9c5e-465e-9113-8f17cde87360",
        "colab": {
          "base_uri": "https://localhost:8080/",
          "height": 281
        }
      },
      "source": [
        "import matplotlib.pyplot as plt\n",
        "import numpy\n",
        "\n",
        "epochs = numpy.array(list(range(len(plot_cache))))\n",
        "plt.plot(epochs, [i[0] for i in plot_cache], label='Train loss')\n",
        "plt.plot(epochs, [i[1] for i in plot_cache], label='Valid loss')\n",
        "\n",
        "plt.legend()\n",
        "plt.title('Loss curves')\n",
        "plt.show()"
      ],
      "execution_count": 44,
      "outputs": [
        {
          "output_type": "display_data",
          "data": {
            "image/png": "[encoded data removed]",
            "text/plain": [
              "<Figure size 432x288 with 1 Axes>"
            ]
          },
          "metadata": {
            "tags": []
          }
        }
      ]
    },
    {
      "cell_type": "code",
      "metadata": {
        "colab_type": "code",
        "id": "R_A4w1QFufyN",
        "outputId": "0bafe003-f36c-4e12-cebe-7d36bb1613cb",
        "colab": {
          "base_uri": "https://localhost:8080/",
          "height": 281
        }
      },
      "source": [
        "import matplotlib.pyplot as plt\n",
        "import numpy\n",
        "\n",
        "epochs = numpy.array(list(range(len(plot_cache))))\n",
        "plt.plot(epochs, [2**(i[0]/numpy.log(2)) for i in plot_cache], label='Train ppl')\n",
        "plt.plot(epochs, [2**(i[1]/numpy.log(2)) for i in plot_cache], label='Valid ppl')\n",
        "\n",
        "plt.legend()\n",
        "plt.title('PPL curves')\n",
        "plt.show()"
      ],
      "execution_count": 45,
      "outputs": [
        {
          "output_type": "display_data",
          "data": {
            "image/png": "[encoded data removed]",
            "text/plain": [
              "<Figure size 432x288 with 1 Axes>"
            ]
          },
          "metadata": {
            "tags": []
          }
        }
      ]
    },
    {
      "cell_type": "markdown",
      "metadata": {
        "colab_type": "text",
        "id": "zAvP_FXgbj_W"
      },
      "source": [
        "### Conditional probability queries\n",
        "\n",
        "We can query different probabilities:\n",
        "\n",
        "$\\large p(\\underbrace{x_t}_{\\text{token}}|\\underbrace{x_{<t}}_{\\text{prefix}})$"
      ]
    },
    {
      "cell_type": "code",
      "metadata": {
        "colab_type": "code",
        "id": "TMG0r9zwbj_X",
        "outputId": "9cc907ba-af97-4196-8db2-e165edfcd8a5",
        "colab": {
          "base_uri": "https://localhost:8080/",
          "height": 90
        }
      },
      "source": [
        "import torch\n",
        "\n",
        "def next_token_probabilities(prefix, token):\n",
        "    inp = dictionary.encode_token_seq(prefix.split(' '))\n",
        "    with torch.no_grad():\n",
        "        model.eval()\n",
        "        logits = model(\n",
        "            torch.tensor([inp], dtype=torch.long).to(current_device)\n",
        "        )\n",
        "        \n",
        "    token_id = dictionary.get_id(token)\n",
        "    p_next_token = torch.softmax(logits[0, -1], dim=-1)\n",
        "    return p_next_token[token_id]\n",
        "\n",
        "prefix = '<bos> i have a'\n",
        "\n",
        "for w in ['dog', 'zebra', 'donut', 'velociraptor']:\n",
        "    prob = next_token_probabilities(prefix, w)\n",
        "    print('p( %s  | %s )\\t= %.3E' % (w, prefix, prob))\n",
        "    "
      ],
      "execution_count": 46,
      "outputs": [
        {
          "output_type": "stream",
          "text": [
            "p( dog  | <bos> i have a )\t= 6.960E-02\n",
            "p( zebra  | <bos> i have a )\t= 1.633E-04\n",
            "p( donut  | <bos> i have a )\t= 1.039E-05\n",
            "p( velociraptor  | <bos> i have a )\t= 2.267E-07\n"
          ],
          "name": "stdout"
        }
      ]
    },
    {
      "cell_type": "markdown",
      "metadata": {
        "id": "dfdAxSCh4b4u",
        "colab_type": "text"
      },
      "source": [
        "\n",
        "\n",
        "And sort by the highest probability next-tokens:\n",
        "\n",
        "$\\large \\texttt{sort}(p(\\cdot|\\underbrace{x_{<t}}_{\\text{prefix}}))$"
      ]
    },
    {
      "cell_type": "code",
      "metadata": {
        "colab_type": "code",
        "outputId": "5bff3913-f285-4ee5-abe6-d54a8ad39ba8",
        "id": "F5NUOuF_4b4v",
        "colab": {
          "base_uri": "https://localhost:8080/",
          "height": 201
        }
      },
      "source": [
        "def get_top_token_given_prefix(prefix, top=10):\n",
        "    inp = dictionary.encode_token_seq(prefix.split(' '))\n",
        "    with torch.no_grad():\n",
        "        model.eval()\n",
        "        logits = model(\n",
        "            torch.tensor([inp], dtype=torch.long).to(current_device)\n",
        "        )\n",
        "        \n",
        "    p_next_token = torch.softmax(logits[0, -1], dim=-1)\n",
        "    sorted_probs, sorted_token_ids = torch.topk(p_next_token, top)\n",
        "\n",
        "    for i in range(sorted_token_ids.size(0)):\n",
        "        print('p( %s  | %s )\\t= %.5f' % \n",
        "              (dictionary.decode_idx_seq([sorted_token_ids[i]])[0], \n",
        "               prefix, \n",
        "               sorted_probs[i])\n",
        "        )\n",
        "\n",
        "get_top_token_given_prefix('<bos> the weather is')"
      ],
      "execution_count": 47,
      "outputs": [
        {
          "output_type": "stream",
          "text": [
            "p( great  | <bos> the weather is )\t= 0.09953\n",
            "p( nice  | <bos> the weather is )\t= 0.07859\n",
            "p( beautiful  | <bos> the weather is )\t= 0.06185\n",
            "p( fun  | <bos> the weather is )\t= 0.05039\n",
            "p( good  | <bos> the weather is )\t= 0.04573\n",
            "p( awesome  | <bos> the weather is )\t= 0.04308\n",
            "p( cool  | <bos> the weather is )\t= 0.04212\n",
            "p( my  | <bos> the weather is )\t= 0.03604\n",
            "p( a  | <bos> the weather is )\t= 0.02892\n",
            "p( so  | <bos> the weather is )\t= 0.02230\n"
          ],
          "name": "stdout"
        }
      ]
    },
    {
      "cell_type": "markdown",
      "metadata": {
        "id": "dd-iHmj-4b4z",
        "colab_type": "text"
      },
      "source": [
        "### Generation (Sampling)\n",
        "\n",
        "Finally, we can generate sentences using the model's conditional distribution:\n",
        "\n",
        "            context = [<bos>]\n",
        "            until <eos> is generated:\n",
        "                wt ~ p(wt | context)\n",
        "                context += [wt]\n",
        "                \n",
        "                \n",
        "Here, the `~` symbol stands for sampling from a categorical distribution. "
      ]
    },
    {
      "cell_type": "code",
      "metadata": {
        "id": "ASBRzg1g4b40",
        "colab_type": "code",
        "outputId": "a167b61d-5e0a-4ac0-963a-7ddfb3a241c5",
        "colab": {
          "base_uri": "https://localhost:8080/",
          "height": 403
        }
      },
      "source": [
        "import torch\n",
        "\n",
        "def sample(model, prefix, num_samples, temperature=1.0, max_len=50):\n",
        "    inp = torch.tensor([\n",
        "        dictionary.encode_token_seq(prefix.split(' '))\n",
        "    ], dtype=torch.long).to(current_device).repeat([num_samples, 1])\n",
        "\n",
        "    sampled = [prefix.split(' ') for _ in range(num_samples)]\n",
        "    done = torch.tensor([False for _ in range(num_samples)])\n",
        "    hidden = None\n",
        "    \n",
        "    with torch.no_grad():\n",
        "        model.eval()\n",
        "        for t in range(max_len):\n",
        "            logits, hidden = step(model, inp, hidden)\n",
        "            logits_ = (logits[:, -1, :] / temperature)\n",
        "            inp = logits_.softmax(-1).multinomial(1)            \n",
        "            for i in range(num_samples):\n",
        "                tok_ti = dictionary.get_token(inp[i, 0].item())\n",
        "                if tok_ti == '<eos>' and not done[i]:\n",
        "                    done[i] = True\n",
        "                    sampled[i].append(tok_ti)\n",
        "                elif not done[i]:\n",
        "                    sampled[i].append(tok_ti)\n",
        "                else:\n",
        "                    pass\n",
        "            if done.sum() == num_samples:\n",
        "                break\n",
        "        \n",
        "    return sampled\n",
        "\n",
        "def step(rnn, token_ids, hidden):\n",
        "    embeddings = rnn.lookup(token_ids)\n",
        "    output, hidden = rnn.rnn(embeddings, hidden)\n",
        "    logits = rnn.projection(output) \n",
        "    return logits, hidden\n",
        "\n",
        "\n",
        "prefix = '<bos> i have a'\n",
        "\n",
        "for temp in [1.0, 0.5, 0.1]:\n",
        "    print(\"Temperature %.2f\" % temp)\n",
        "    samples = sample(model, prefix, 5, temperature=temp)\n",
        "    for s in samples:\n",
        "        print(' '.join(s))\n",
        "    print()"
      ],
      "execution_count": 48,
      "outputs": [
        {
          "output_type": "stream",
          "text": [
            "Temperature 1.00\n",
            "<bos> i have a great time of mine so i 100 many daily in my free time . <eos>\n",
            "<bos> i have a family and work for cruz world . but i am not familiar ! <eos>\n",
            "<bos> i have a weird man and a cat . <eos>\n",
            "<bos> i have a lot . <eos>\n",
            "<bos> i have a porsche myself . thirty . <eos>\n",
            "\n",
            "Temperature 0.50\n",
            "<bos> i have a lot of money . <eos>\n",
            "<bos> i have a cat named cow i am a vegetarian . <eos>\n",
            "<bos> i have a dog named cow . <eos>\n",
            "<bos> i have a dog , he is a good cook . <eos>\n",
            "<bos> i have a cat too . <eos>\n",
            "\n",
            "Temperature 0.10\n",
            "<bos> i have a dog named toto . <eos>\n",
            "<bos> i have a dog named toto . <eos>\n",
            "<bos> i have a cat named cow . <eos>\n",
            "<bos> i have a dog named toto . <eos>\n",
            "<bos> i have a cat named cow . <eos>\n",
            "\n"
          ],
          "name": "stdout"
        }
      ]
    },
    {
      "cell_type": "code",
      "metadata": {
        "colab_type": "code",
        "id": "uzGqlrKhbj_g",
        "colab": {}
      },
      "source": [
        "# Saving the model\n",
        "if False:\n",
        "    torch.save({\n",
        "        'options': options,\n",
        "        'loss_cache': plot_cache,\n",
        "        'model_dict': model.state_dict()\n",
        "    }, './static_files/persona_rnn_lm.pt')"
      ],
      "execution_count": 0,
      "outputs": []
    },
    {
      "cell_type": "markdown",
      "metadata": {
        "id": "TvZhhApD4b48",
        "colab_type": "raw"
      },
      "source": [
        ""
      ]
    },
    {
      "cell_type": "markdown",
      "metadata": {
        "id": "_txPtVQd4b48",
        "colab_type": "text"
      },
      "source": [
        "## Large-scale Language Modeling: GPT-2\n",
        "\n",
        "The language model above is relatively small in terms of the number of parameters, and is trained on a (very) small dataset.\n",
        "\n",
        "Recently, researchers have trained **large-scale language models** on **large amounts of data**, resulting in improved language modeling and generation ability. \n",
        "\n",
        "A representative example is **GPT-2** [[paper](https://cdn.openai.com/better-language-models/language_models_are_unsupervised_multitask_learners.pdf)], [[blog](https://openai.com/blog/better-language-models/)]. We won't currently discuss the details of this model, but we can easily **use a pre-trained version to generate text**:"
      ]
    },
    {
      "cell_type": "code",
      "metadata": {
        "id": "lDX1C4LK4b49",
        "colab_type": "code",
        "outputId": "87cc9b70-71a6-4389-a79d-cdb83e9b1976",
        "colab": {
          "base_uri": "https://localhost:8080/",
          "height": 697
        }
      },
      "source": [
        "!pip install transformers"
      ],
      "execution_count": 50,
      "outputs": [
        {
          "output_type": "stream",
          "text": [
            "Collecting transformers\n",
            "\u001b[?25l  Downloading https://files.pythonhosted.org/packages/13/33/ffb67897a6985a7b7d8e5e7878c3628678f553634bd3836404fef06ef19b/transformers-2.5.1-py3-none-any.whl (499kB)\n",
            "\r\u001b[K     |▋                               | 10kB 23.6MB/s eta 0:00:01\r\u001b[K     |█▎                              | 20kB 3.0MB/s eta 0:00:01\r\u001b[K     |██                              | 30kB 4.4MB/s eta 0:00:01\r\u001b[K     |██▋                             | 40kB 2.9MB/s eta 0:00:01\r\u001b[K     |███▎                            | 51kB 3.5MB/s eta 0:00:01\r\u001b[K     |████                            | 61kB 4.2MB/s eta 0:00:01\r\u001b[K     |████▋                           | 71kB 4.8MB/s eta 0:00:01\r\u001b[K     |█████▎                          | 81kB 5.5MB/s eta 0:00:01\r\u001b[K     |██████                          | 92kB 6.1MB/s eta 0:00:01\r\u001b[K     |██████▋                         | 102kB 4.7MB/s eta 0:00:01\r\u001b[K     |███████▏                        | 112kB 4.7MB/s eta 0:00:01\r\u001b[K     |███████▉                        | 122kB 4.7MB/s eta 0:00:01\r\u001b[K     |████████▌                       | 133kB 4.7MB/s eta 0:00:01\r\u001b[K     |█████████▏                      | 143kB 4.7MB/s eta 0:00:01\r\u001b[K     |█████████▉                      | 153kB 4.7MB/s eta 0:00:01\r\u001b[K     |██████████▌                     | 163kB 4.7MB/s eta 0:00:01\r\u001b[K     |███████████▏                    | 174kB 4.7MB/s eta 0:00:01\r\u001b[K     |███████████▉                    | 184kB 4.7MB/s eta 0:00:01\r\u001b[K     |████████████▌                   | 194kB 4.7MB/s eta 0:00:01\r\u001b[K     |█████████████▏                  | 204kB 4.7MB/s eta 0:00:01\r\u001b[K     |█████████████▉                  | 215kB 4.7MB/s eta 0:00:01\r\u001b[K     |██████████████▍                 | 225kB 4.7MB/s eta 0:00:01\r\u001b[K     |███████████████                 | 235kB 4.7MB/s eta 0:00:01\r\u001b[K     |███████████████▊                | 245kB 4.7MB/s eta 0:00:01\r\u001b[K     |████████████████▍               | 256kB 4.7MB/s eta 0:00:01\r\u001b[K     |█████████████████               | 266kB 4.7MB/s eta 0:00:01\r\u001b[K     |█████████████████▊              | 276kB 4.7MB/s eta 0:00:01\r\u001b[K     |██████████████████▍             | 286kB 4.7MB/s eta 0:00:01\r\u001b[K     |███████████████████             | 296kB 4.7MB/s eta 0:00:01\r\u001b[K     |███████████████████▊            | 307kB 4.7MB/s eta 0:00:01\r\u001b[K     |████████████████████▍           | 317kB 4.7MB/s eta 0:00:01\r\u001b[K     |█████████████████████           | 327kB 4.7MB/s eta 0:00:01\r\u001b[K     |█████████████████████▋          | 337kB 4.7MB/s eta 0:00:01\r\u001b[K     |██████████████████████▎         | 348kB 4.7MB/s eta 0:00:01\r\u001b[K     |███████████████████████         | 358kB 4.7MB/s eta 0:00:01\r\u001b[K     |███████████████████████▋        | 368kB 4.7MB/s eta 0:00:01\r\u001b[K     |████████████████████████▎       | 378kB 4.7MB/s eta 0:00:01\r\u001b[K     |█████████████████████████       | 389kB 4.7MB/s eta 0:00:01\r\u001b[K     |█████████████████████████▋      | 399kB 4.7MB/s eta 0:00:01\r\u001b[K     |██████████████████████████▎     | 409kB 4.7MB/s eta 0:00:01\r\u001b[K     |███████████████████████████     | 419kB 4.7MB/s eta 0:00:01\r\u001b[K     |███████████████████████████▋    | 430kB 4.7MB/s eta 0:00:01\r\u001b[K     |████████████████████████████▏   | 440kB 4.7MB/s eta 0:00:01\r\u001b[K     |████████████████████████████▉   | 450kB 4.7MB/s eta 0:00:01\r\u001b[K     |█████████████████████████████▌  | 460kB 4.7MB/s eta 0:00:01\r\u001b[K     |██████████████████████████████▏ | 471kB 4.7MB/s eta 0:00:01\r\u001b[K     |██████████████████████████████▉ | 481kB 4.7MB/s eta 0:00:01\r\u001b[K     |███████████████████████████████▌| 491kB 4.7MB/s eta 0:00:01\r\u001b[K     |████████████████████████████████| 501kB 4.7MB/s \n",
            "\u001b[?25hRequirement already satisfied: regex!=2019.12.17 in /usr/local/lib/python3.6/dist-packages (from transformers) (2019.12.20)\n",
            "Collecting tokenizers==0.5.2\n",
            "\u001b[?25l  Downloading https://files.pythonhosted.org/packages/d1/3f/73c881ea4723e43c1e9acf317cf407fab3a278daab3a69c98dcac511c04f/tokenizers-0.5.2-cp36-cp36m-manylinux1_x86_64.whl (3.7MB)\n",
            "\u001b[K     |████████████████████████████████| 3.7MB 55.3MB/s \n",
            "\u001b[?25hRequirement already satisfied: filelock in /usr/local/lib/python3.6/dist-packages (from transformers) (3.0.12)\n",
            "Collecting sacremoses\n",
            "\u001b[?25l  Downloading https://files.pythonhosted.org/packages/a6/b4/7a41d630547a4afd58143597d5a49e07bfd4c42914d8335b2a5657efc14b/sacremoses-0.0.38.tar.gz (860kB)\n",
            "\u001b[K     |████████████████████████████████| 870kB 73.0MB/s \n",
            "\u001b[?25hRequirement already satisfied: numpy in /usr/local/lib/python3.6/dist-packages (from transformers) (1.18.1)\n",
            "Collecting sentencepiece\n",
            "\u001b[?25l  Downloading https://files.pythonhosted.org/packages/74/f4/2d5214cbf13d06e7cb2c20d84115ca25b53ea76fa1f0ade0e3c9749de214/sentencepiece-0.1.85-cp36-cp36m-manylinux1_x86_64.whl (1.0MB)\n",
            "\u001b[K     |████████████████████████████████| 1.0MB 49.6MB/s \n",
            "\u001b[?25hRequirement already satisfied: tqdm>=4.27 in /usr/local/lib/python3.6/dist-packages (from transformers) (4.28.1)\n",
            "Requirement already satisfied: requests in /usr/local/lib/python3.6/dist-packages (from transformers) (2.21.0)\n",
            "Requirement already satisfied: boto3 in /usr/local/lib/python3.6/dist-packages (from transformers) (1.12.18)\n",
            "Requirement already satisfied: six in /usr/local/lib/python3.6/dist-packages (from sacremoses->transformers) (1.12.0)\n",
            "Requirement already satisfied: click in /usr/local/lib/python3.6/dist-packages (from sacremoses->transformers) (7.1.1)\n",
            "Requirement already satisfied: joblib in /usr/local/lib/python3.6/dist-packages (from sacremoses->transformers) (0.14.1)\n",
            "Requirement already satisfied: chardet<3.1.0,>=3.0.2 in /usr/local/lib/python3.6/dist-packages (from requests->transformers) (3.0.4)\n",
            "Requirement already satisfied: urllib3<1.25,>=1.21.1 in /usr/local/lib/python3.6/dist-packages (from requests->transformers) (1.24.3)\n",
            "Requirement already satisfied: certifi>=2017.4.17 in /usr/local/lib/python3.6/dist-packages (from requests->transformers) (2019.11.28)\n",
            "Requirement already satisfied: idna<2.9,>=2.5 in /usr/local/lib/python3.6/dist-packages (from requests->transformers) (2.8)\n",
            "Requirement already satisfied: s3transfer<0.4.0,>=0.3.0 in /usr/local/lib/python3.6/dist-packages (from boto3->transformers) (0.3.3)\n",
            "Requirement already satisfied: jmespath<1.0.0,>=0.7.1 in /usr/local/lib/python3.6/dist-packages (from boto3->transformers) (0.9.5)\n",
            "Requirement already satisfied: botocore<1.16.0,>=1.15.18 in /usr/local/lib/python3.6/dist-packages (from boto3->transformers) (1.15.18)\n",
            "Requirement already satisfied: python-dateutil<3.0.0,>=2.1 in /usr/local/lib/python3.6/dist-packages (from botocore<1.16.0,>=1.15.18->boto3->transformers) (2.8.1)\n",
            "Requirement already satisfied: docutils<0.16,>=0.10 in /usr/local/lib/python3.6/dist-packages (from botocore<1.16.0,>=1.15.18->boto3->transformers) (0.15.2)\n",
            "Building wheels for collected packages: sacremoses\n",
            "  Building wheel for sacremoses (setup.py) ... \u001b[?25l\u001b[?25hdone\n",
            "  Created wheel for sacremoses: filename=sacremoses-0.0.38-cp36-none-any.whl size=884628 sha256=6b764e26c3fbca13935dd3dcfe688a92a1b151115efc985697e25ce0110fa239\n",
            "  Stored in directory: /root/.cache/pip/wheels/6d/ec/1a/21b8912e35e02741306f35f66c785f3afe94de754a0eaf1422\n",
            "Successfully built sacremoses\n",
            "Installing collected packages: tokenizers, sacremoses, sentencepiece, transformers\n",
            "Successfully installed sacremoses-0.0.38 sentencepiece-0.1.85 tokenizers-0.5.2 transformers-2.5.1\n"
          ],
          "name": "stdout"
        }
      ]
    },
    {
      "cell_type": "markdown",
      "metadata": {
        "id": "t4MkwxCI4b5A",
        "colab_type": "text"
      },
      "source": [
        "#### Load the model and tokenizer"
      ]
    },
    {
      "cell_type": "code",
      "metadata": {
        "id": "mjOgoR1B4b5C",
        "colab_type": "code",
        "outputId": "864c4023-0e7b-460b-d404-f213e0f313fd",
        "colab": {
          "base_uri": "https://localhost:8080/",
          "height": 266,
          "referenced_widgets": [
            "1bd80efcaadc4765bf2955c60b7c2728",
            "0db625e154f04fb3a0c1907eed2dcd9c",
            "6a902c60dd9248c8aafebdbf3ecc121a",
            "72843512a03e4367821626a8da4a8abd",
            "393b8dc6afa8439ca395eb636ad70fd5",
            "0a0c9cb2a02f473d9863f0c19ac7eb25",
            "c4e818ce8e5f461b8090743adf73b32e",
            "032c50343f7d4263a41d717f3af79fad",
            "27dbdfadb4914a8c9284068fc97af435",
            "df4de2389b004b2bad5f7463366b9360",
            "ffe4142d6b52458d9e959942edf63c6b",
            "2a37ade4abbd4650a1d5df61e7ee0887",
            "64769d01ff174e548994cb40a6c0b2f2",
            "c44dc2a4844e49d7bacd014a1c5afe2d",
            "aa5fd02f2e7e4c219079e124268a3244",
            "fcc87ef25142449e82b94dfe444c076c",
            "4515b2f165b443a1acf71e5d2e238d8e",
            "e63f271e37a94cb59277d29b3f4399ec",
            "57bf6817f6514757acdccef01bc92776",
            "fcaab6ead6b54675a11b6c533c58b020",
            "05873e43b8f549119bc6b77c4d25d2f2",
            "d1c51cfa613f45b78ef03fd73bba86ed",
            "68b5fadf77c64f7cad2d0709af0c1735",
            "a4809664c26f421fac1ab36f8d3a8e4b",
            "7294d700d9ff415cbd90e0424fa14158",
            "fc4ba161178d4af1b6b9cbd9ec0f69fc",
            "53b59e2a621647689d49ba982b7e74a8",
            "99347edb7c8447f984f7a8863455a1b4",
            "4848cd6d109b49f88ae9aec2084a4c7a",
            "c73b080d426748a7ae892fba29345c69",
            "7515a6494da9437698d47e7b9737cf7d",
            "422cd59107b64f0bb835f9dbe0f404fa"
          ]
        }
      },
      "source": [
        "import torch\n",
        "from transformers import (\n",
        "    GPT2LMHeadModel,\n",
        "    GPT2Tokenizer\n",
        ")\n",
        "\n",
        "device = torch.device('cpu') if not torch.cuda.is_available() else torch.device('cuda:0')\n",
        "\n",
        "tokenizer = GPT2Tokenizer.from_pretrained(\"gpt2\")\n",
        "model = GPT2LMHeadModel.from_pretrained(\"gpt2\")\n",
        "model.to(device);"
      ],
      "execution_count": 51,
      "outputs": [
        {
          "output_type": "display_data",
          "data": {
            "text/html": [
              "<p style=\"color: red;\">\n",
              "The default version of TensorFlow in Colab will soon switch to TensorFlow 2.x.<br>\n",
              "We recommend you <a href=\"https://www.tensorflow.org/guide/migrate\" target=\"_blank\">upgrade</a> now \n",
              "or ensure your notebook will continue to use TensorFlow 1.x via the <code>%tensorflow_version 1.x</code> magic:\n",
              "<a href=\"https://colab.research.google.com/notebooks/tensorflow_version.ipynb\" target=\"_blank\">more info</a>.</p>\n"
            ],
            "text/plain": [
              "<IPython.core.display.HTML object>"
            ]
          },
          "metadata": {
            "tags": []
          }
        },
        {
          "output_type": "display_data",
          "data": {
            "application/vnd.jupyter.widget-view+json": {
              "model_id": "1bd80efcaadc4765bf2955c60b7c2728",
              "version_minor": 0,
              "version_major": 2
            },
            "text/plain": [
              "HBox(children=(IntProgress(value=0, description='Downloading', max=1042301, style=ProgressStyle(description_wi…"
            ]
          },
          "metadata": {
            "tags": []
          }
        },
        {
          "output_type": "stream",
          "text": [
            "\n"
          ],
          "name": "stdout"
        },
        {
          "output_type": "display_data",
          "data": {
            "application/vnd.jupyter.widget-view+json": {
              "model_id": "27dbdfadb4914a8c9284068fc97af435",
              "version_minor": 0,
              "version_major": 2
            },
            "text/plain": [
              "HBox(children=(IntProgress(value=0, description='Downloading', max=456318, style=ProgressStyle(description_wid…"
            ]
          },
          "metadata": {
            "tags": []
          }
        },
        {
          "output_type": "stream",
          "text": [
            "\n"
          ],
          "name": "stdout"
        },
        {
          "output_type": "display_data",
          "data": {
            "application/vnd.jupyter.widget-view+json": {
              "model_id": "4515b2f165b443a1acf71e5d2e238d8e",
              "version_minor": 0,
              "version_major": 2
            },
            "text/plain": [
              "HBox(children=(IntProgress(value=0, description='Downloading', max=224, style=ProgressStyle(description_width=…"
            ]
          },
          "metadata": {
            "tags": []
          }
        },
        {
          "output_type": "stream",
          "text": [
            "\n"
          ],
          "name": "stdout"
        },
        {
          "output_type": "display_data",
          "data": {
            "application/vnd.jupyter.widget-view+json": {
              "model_id": "7294d700d9ff415cbd90e0424fa14158",
              "version_minor": 0,
              "version_major": 2
            },
            "text/plain": [
              "HBox(children=(IntProgress(value=0, description='Downloading', max=548118077, style=ProgressStyle(description_…"
            ]
          },
          "metadata": {
            "tags": []
          }
        },
        {
          "output_type": "stream",
          "text": [
            "\n"
          ],
          "name": "stdout"
        }
      ]
    },
    {
      "cell_type": "markdown",
      "metadata": {
        "id": "7_jdurOM4b5F",
        "colab_type": "text"
      },
      "source": [
        "#### Generate (Sampling)\n",
        "\n",
        "We'll talk about other ways to generate later in the course."
      ]
    },
    {
      "cell_type": "code",
      "metadata": {
        "id": "eD4o1XKe4b5G",
        "colab_type": "code",
        "outputId": "7836dec5-a87c-4a8f-e524-c8fc721f766e",
        "colab": {
          "base_uri": "https://localhost:8080/",
          "height": 533
        }
      },
      "source": [
        "prefix = 'My favorite food is'\n",
        "\n",
        "max_length = 100\n",
        "num_samples = 5\n",
        "\n",
        "inp = torch.tensor([tokenizer.encode(prefix)], device=device).repeat(num_samples, 1)\n",
        "\n",
        "out = model.generate(\n",
        "    input_ids=inp,\n",
        "    do_sample=True,\n",
        "    max_length=max_length\n",
        ")\n",
        "\n",
        "for i in range(num_samples):\n",
        "    sample = tokenizer.decode(out[i])\n",
        "    print(sample)\n",
        "    print('---------------------------------------------------')"
      ],
      "execution_count": 52,
      "outputs": [
        {
          "output_type": "stream",
          "text": [
            "My favorite food is cooked, so cooking it with vegetables and spices makes it look like a dish when it actually is. I'll always consider this dish for a regular family cookbook after it has been served to me by some friend because I don't remember much of it from years ago anymore at home.\n",
            "\n",
            "We are back again, and with time we can use this simple step by step cooking method.\n",
            "\n",
            "This recipe is a simple and simple way to make a curry paste.\n",
            "\n",
            "\n",
            "\n",
            "---------------------------------------------------\n",
            "My favorite food is sweet potatoes. They're so tender because the potato starch is so absorbed through the muscles, and those muscle fibers are all at home in that skillet. It is really good and good tasting.\n",
            "\n",
            "The other thing I found interesting was the potatoes had an amazingly flavorful soup of beans and rice and cabbage, and the soup was so rich even the best of soup makers could relate to it. It was very pretty.\n",
            "\n",
            "The last question I wanted answered is, do you use\n",
            "---------------------------------------------------\n",
            "My favorite food is often made ahead on the weekend. Sometimes I order an entire dish without telling you why. After reading some recent studies and researching for myself about protein, some things might be not so surprising. This is the most frequently cited research and study to support this position.\n",
            "\n",
            "However, I have two misconceptions about protein: the first is that, because of its nutritional value alone, protein is still the most nutritious food most people eat. Why? Protein is generally thought of as an essential\n",
            "---------------------------------------------------\n",
            "My favorite food is something that you're not sure about. It's the name \"Grammy Girl\". It's the kind of sandwich and dessert that can't be out of place in one's life, but you go for it. If you want it, you go for it.\n",
            "\n",
            "4. Go back, back, back. And back.\n",
            "\n",
            "1. If you really love music, if you want a place that's in your heart and your senses and the things in it\n",
            "---------------------------------------------------\n",
            "My favorite food is the fried chicken which reminds me of a classic Korean dish. I had the pork belly, the hot potatoes and the green beans. It wasn't great but all in all the food tasted so good so I wasn't disappointed. I ordered the same recipe but in the past few days the sauce has improved quite a bit - so I'm looking forward to it in other places. Next time, I have to order the pork belly again as this is a pretty good dish but it is\n",
            "---------------------------------------------------\n"
          ],
          "name": "stdout"
        }
      ]
    },
    {
      "cell_type": "code",
      "metadata": {
        "id": "et-AQWQW4b5I",
        "colab_type": "code",
        "colab": {}
      },
      "source": [
        ""
      ],
      "execution_count": 0,
      "outputs": []
    }
  ]
}